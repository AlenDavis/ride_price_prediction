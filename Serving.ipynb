{
  "nbformat": 4,
  "nbformat_minor": 0,
  "metadata": {
    "colab": {
      "name": "Serving.ipynb",
      "provenance": [],
      "collapsed_sections": []
    },
    "kernelspec": {
      "name": "python3",
      "display_name": "Python 3"
    },
    "language_info": {
      "name": "python"
    }
  },
  "cells": [
    {
      "cell_type": "code",
      "execution_count": 1,
      "metadata": {
        "colab": {
          "base_uri": "https://localhost:8080/"
        },
        "id": "qaIBCn3RONoC",
        "outputId": "c4988ab8-c293-44a3-e94e-0b5d673de16b"
      },
      "outputs": [
        {
          "output_type": "stream",
          "name": "stdout",
          "text": [
            "Archive:  models.zip\n",
            "   creating: models/\n",
            "   creating: models/ride_model_param_tuning/\n",
            "   creating: models/ride_model_param_tuning/trial_0017/\n",
            "  inflating: models/ride_model_param_tuning/trial_0017/trial.json  \n",
            "  inflating: models/ride_model_param_tuning/trial_0017/checkpoint.data-00000-of-00001  \n",
            "  inflating: models/ride_model_param_tuning/trial_0017/checkpoint.index  \n",
            "  inflating: models/ride_model_param_tuning/trial_0017/checkpoint  \n",
            "   creating: models/ride_model_param_tuning/trial_0012/\n",
            "  inflating: models/ride_model_param_tuning/trial_0012/trial.json  \n",
            "  inflating: models/ride_model_param_tuning/trial_0012/checkpoint.data-00000-of-00001  \n",
            "  inflating: models/ride_model_param_tuning/trial_0012/checkpoint.index  \n",
            "  inflating: models/ride_model_param_tuning/trial_0012/checkpoint  \n",
            "   creating: models/ride_model_param_tuning/trial_0025/\n",
            "  inflating: models/ride_model_param_tuning/trial_0025/trial.json  \n",
            "  inflating: models/ride_model_param_tuning/trial_0025/checkpoint.data-00000-of-00001  \n",
            "  inflating: models/ride_model_param_tuning/trial_0025/checkpoint.index  \n",
            "  inflating: models/ride_model_param_tuning/trial_0025/checkpoint  \n",
            "   creating: models/ride_model_param_tuning/trial_0001/\n",
            "  inflating: models/ride_model_param_tuning/trial_0001/trial.json  \n",
            "  inflating: models/ride_model_param_tuning/trial_0001/checkpoint.data-00000-of-00001  \n",
            "  inflating: models/ride_model_param_tuning/trial_0001/checkpoint.index  \n",
            "  inflating: models/ride_model_param_tuning/trial_0001/checkpoint  \n",
            "   creating: models/ride_model_param_tuning/trial_0024/\n",
            "  inflating: models/ride_model_param_tuning/trial_0024/trial.json  \n",
            "  inflating: models/ride_model_param_tuning/trial_0024/checkpoint.data-00000-of-00001  \n",
            "  inflating: models/ride_model_param_tuning/trial_0024/checkpoint.index  \n",
            "  inflating: models/ride_model_param_tuning/trial_0024/checkpoint  \n",
            "   creating: models/ride_model_param_tuning/trial_0014/\n",
            "  inflating: models/ride_model_param_tuning/trial_0014/trial.json  \n",
            "  inflating: models/ride_model_param_tuning/trial_0014/checkpoint.data-00000-of-00001  \n",
            "  inflating: models/ride_model_param_tuning/trial_0014/checkpoint.index  \n",
            "  inflating: models/ride_model_param_tuning/trial_0014/checkpoint  \n",
            "   creating: models/ride_model_param_tuning/trial_0016/\n",
            "  inflating: models/ride_model_param_tuning/trial_0016/trial.json  \n",
            "  inflating: models/ride_model_param_tuning/trial_0016/checkpoint.data-00000-of-00001  \n",
            "  inflating: models/ride_model_param_tuning/trial_0016/checkpoint.index  \n",
            "  inflating: models/ride_model_param_tuning/trial_0016/checkpoint  \n",
            " extracting: models/ride_model_param_tuning/tuner0.json  \n",
            "   creating: models/ride_model_param_tuning/trial_0010/\n",
            "  inflating: models/ride_model_param_tuning/trial_0010/trial.json  \n",
            "  inflating: models/ride_model_param_tuning/trial_0010/checkpoint.data-00000-of-00001  \n",
            "  inflating: models/ride_model_param_tuning/trial_0010/checkpoint.index  \n",
            "  inflating: models/ride_model_param_tuning/trial_0010/checkpoint  \n",
            "   creating: models/ride_model_param_tuning/trial_0021/\n",
            "  inflating: models/ride_model_param_tuning/trial_0021/trial.json  \n",
            "  inflating: models/ride_model_param_tuning/trial_0021/checkpoint.data-00000-of-00001  \n",
            "  inflating: models/ride_model_param_tuning/trial_0021/checkpoint.index  \n",
            "  inflating: models/ride_model_param_tuning/trial_0021/checkpoint  \n",
            "   creating: models/ride_model_param_tuning/trial_0028/\n",
            "  inflating: models/ride_model_param_tuning/trial_0028/trial.json  \n",
            "  inflating: models/ride_model_param_tuning/trial_0028/checkpoint.data-00000-of-00001  \n",
            "  inflating: models/ride_model_param_tuning/trial_0028/checkpoint.index  \n",
            "  inflating: models/ride_model_param_tuning/trial_0028/checkpoint  \n",
            "   creating: models/ride_model_param_tuning/trial_0002/\n",
            "  inflating: models/ride_model_param_tuning/trial_0002/trial.json  \n",
            "  inflating: models/ride_model_param_tuning/trial_0002/checkpoint.data-00000-of-00001  \n",
            "  inflating: models/ride_model_param_tuning/trial_0002/checkpoint.index  \n",
            "  inflating: models/ride_model_param_tuning/trial_0002/checkpoint  \n",
            "   creating: models/ride_model_param_tuning/trial_0015/\n",
            "  inflating: models/ride_model_param_tuning/trial_0015/trial.json  \n",
            "  inflating: models/ride_model_param_tuning/trial_0015/checkpoint.data-00000-of-00001  \n",
            "  inflating: models/ride_model_param_tuning/trial_0015/checkpoint.index  \n",
            "  inflating: models/ride_model_param_tuning/trial_0015/checkpoint  \n",
            "   creating: models/ride_model_param_tuning/trial_0000/\n",
            "  inflating: models/ride_model_param_tuning/trial_0000/trial.json  \n",
            "  inflating: models/ride_model_param_tuning/trial_0000/checkpoint.data-00000-of-00001  \n",
            "  inflating: models/ride_model_param_tuning/trial_0000/checkpoint.index  \n",
            "  inflating: models/ride_model_param_tuning/trial_0000/checkpoint  \n",
            "   creating: models/ride_model_param_tuning/trial_0005/\n",
            "  inflating: models/ride_model_param_tuning/trial_0005/trial.json  \n",
            "  inflating: models/ride_model_param_tuning/trial_0005/checkpoint.data-00000-of-00001  \n",
            "  inflating: models/ride_model_param_tuning/trial_0005/checkpoint.index  \n",
            "  inflating: models/ride_model_param_tuning/trial_0005/checkpoint  \n",
            "   creating: models/ride_model_param_tuning/trial_0009/\n",
            "  inflating: models/ride_model_param_tuning/trial_0009/trial.json  \n",
            "  inflating: models/ride_model_param_tuning/trial_0009/checkpoint.data-00000-of-00001  \n",
            "  inflating: models/ride_model_param_tuning/trial_0009/checkpoint.index  \n",
            "  inflating: models/ride_model_param_tuning/trial_0009/checkpoint  \n",
            "   creating: models/ride_model_param_tuning/trial_0006/\n",
            "  inflating: models/ride_model_param_tuning/trial_0006/trial.json  \n",
            "  inflating: models/ride_model_param_tuning/trial_0006/checkpoint.data-00000-of-00001  \n",
            "  inflating: models/ride_model_param_tuning/trial_0006/checkpoint.index  \n",
            "  inflating: models/ride_model_param_tuning/trial_0006/checkpoint  \n",
            "   creating: models/ride_model_param_tuning/trial_0022/\n",
            "  inflating: models/ride_model_param_tuning/trial_0022/trial.json  \n",
            "  inflating: models/ride_model_param_tuning/trial_0022/checkpoint.data-00000-of-00001  \n",
            "  inflating: models/ride_model_param_tuning/trial_0022/checkpoint.index  \n",
            "  inflating: models/ride_model_param_tuning/trial_0022/checkpoint  \n",
            "   creating: models/ride_model_param_tuning/trial_0026/\n",
            "  inflating: models/ride_model_param_tuning/trial_0026/trial.json  \n",
            "  inflating: models/ride_model_param_tuning/trial_0026/checkpoint.data-00000-of-00001  \n",
            "  inflating: models/ride_model_param_tuning/trial_0026/checkpoint.index  \n",
            "  inflating: models/ride_model_param_tuning/trial_0026/checkpoint  \n",
            "   creating: models/ride_model_param_tuning/trial_0027/\n",
            "  inflating: models/ride_model_param_tuning/trial_0027/trial.json  \n",
            "  inflating: models/ride_model_param_tuning/trial_0027/checkpoint.data-00000-of-00001  \n",
            "  inflating: models/ride_model_param_tuning/trial_0027/checkpoint.index  \n",
            "  inflating: models/ride_model_param_tuning/trial_0027/checkpoint  \n",
            "   creating: models/ride_model_param_tuning/trial_0019/\n",
            "  inflating: models/ride_model_param_tuning/trial_0019/trial.json  \n",
            "  inflating: models/ride_model_param_tuning/trial_0019/checkpoint.data-00000-of-00001  \n",
            "  inflating: models/ride_model_param_tuning/trial_0019/checkpoint.index  \n",
            "  inflating: models/ride_model_param_tuning/trial_0019/checkpoint  \n",
            "   creating: models/ride_model_param_tuning/trial_0029/\n",
            "  inflating: models/ride_model_param_tuning/trial_0029/trial.json  \n",
            "  inflating: models/ride_model_param_tuning/trial_0029/checkpoint.data-00000-of-00001  \n",
            "  inflating: models/ride_model_param_tuning/trial_0029/checkpoint.index  \n",
            "  inflating: models/ride_model_param_tuning/trial_0029/checkpoint  \n",
            "   creating: models/ride_model_param_tuning/trial_0018/\n",
            "  inflating: models/ride_model_param_tuning/trial_0018/trial.json  \n",
            "  inflating: models/ride_model_param_tuning/trial_0018/checkpoint.data-00000-of-00001  \n",
            "  inflating: models/ride_model_param_tuning/trial_0018/checkpoint.index  \n",
            "  inflating: models/ride_model_param_tuning/trial_0018/checkpoint  \n",
            "   creating: models/ride_model_param_tuning/trial_0003/\n",
            "  inflating: models/ride_model_param_tuning/trial_0003/trial.json  \n",
            "  inflating: models/ride_model_param_tuning/trial_0003/checkpoint.data-00000-of-00001  \n",
            "  inflating: models/ride_model_param_tuning/trial_0003/checkpoint.index  \n",
            "  inflating: models/ride_model_param_tuning/trial_0003/checkpoint  \n",
            "   creating: models/ride_model_param_tuning/trial_0008/\n",
            "  inflating: models/ride_model_param_tuning/trial_0008/trial.json  \n",
            "  inflating: models/ride_model_param_tuning/trial_0008/checkpoint.data-00000-of-00001  \n",
            "  inflating: models/ride_model_param_tuning/trial_0008/checkpoint.index  \n",
            "  inflating: models/ride_model_param_tuning/trial_0008/checkpoint  \n",
            "   creating: models/ride_model_param_tuning/trial_0013/\n",
            "  inflating: models/ride_model_param_tuning/trial_0013/trial.json  \n",
            "  inflating: models/ride_model_param_tuning/trial_0013/checkpoint.data-00000-of-00001  \n",
            "  inflating: models/ride_model_param_tuning/trial_0013/checkpoint.index  \n",
            "  inflating: models/ride_model_param_tuning/trial_0013/checkpoint  \n",
            "  inflating: models/ride_model_param_tuning/oracle.json  \n",
            "   creating: models/ride_model_param_tuning/trial_0020/\n",
            "  inflating: models/ride_model_param_tuning/trial_0020/trial.json  \n",
            "  inflating: models/ride_model_param_tuning/trial_0020/checkpoint.data-00000-of-00001  \n",
            "  inflating: models/ride_model_param_tuning/trial_0020/checkpoint.index  \n",
            "  inflating: models/ride_model_param_tuning/trial_0020/checkpoint  \n",
            "   creating: models/ride_model_param_tuning/trial_0011/\n",
            "  inflating: models/ride_model_param_tuning/trial_0011/trial.json  \n",
            "  inflating: models/ride_model_param_tuning/trial_0011/checkpoint.data-00000-of-00001  \n",
            "  inflating: models/ride_model_param_tuning/trial_0011/checkpoint.index  \n",
            "  inflating: models/ride_model_param_tuning/trial_0011/checkpoint  \n",
            "   creating: models/ride_model_param_tuning/trial_0007/\n",
            "  inflating: models/ride_model_param_tuning/trial_0007/trial.json  \n",
            "  inflating: models/ride_model_param_tuning/trial_0007/checkpoint.data-00000-of-00001  \n",
            "  inflating: models/ride_model_param_tuning/trial_0007/checkpoint.index  \n",
            "  inflating: models/ride_model_param_tuning/trial_0007/checkpoint  \n",
            "   creating: models/ride_model_param_tuning/trial_0004/\n",
            "  inflating: models/ride_model_param_tuning/trial_0004/trial.json  \n",
            "  inflating: models/ride_model_param_tuning/trial_0004/checkpoint.data-00000-of-00001  \n",
            "  inflating: models/ride_model_param_tuning/trial_0004/checkpoint.index  \n",
            "  inflating: models/ride_model_param_tuning/trial_0004/checkpoint  \n",
            "   creating: models/ride_model_param_tuning/trial_0023/\n",
            "  inflating: models/ride_model_param_tuning/trial_0023/trial.json  \n",
            "  inflating: models/ride_model_param_tuning/trial_0023/checkpoint.data-00000-of-00001  \n",
            "  inflating: models/ride_model_param_tuning/trial_0023/checkpoint.index  \n",
            "  inflating: models/ride_model_param_tuning/trial_0023/checkpoint  \n",
            "   creating: models/trained_model/\n",
            "   creating: models/trained_model/variables/\n",
            "  inflating: models/trained_model/variables/variables.index  \n",
            "  inflating: models/trained_model/variables/variables.data-00000-of-00001  \n",
            "  inflating: models/trained_model/saved_model.pb  \n",
            "  inflating: models/trained_model/keras_metadata.pb  \n",
            "   creating: models/trained_model/assets/\n"
          ]
        }
      ],
      "source": [
        "!unzip models.zip"
      ]
    },
    {
      "cell_type": "code",
      "source": [
        "import os\n",
        "\n",
        "import tensorflow as tf\n",
        "from tensorflow import keras\n",
        "import pandas as pd\n",
        "import numpy as np\n",
        "import pickle"
      ],
      "metadata": {
        "id": "EEegTSv1O8n_"
      },
      "execution_count": 3,
      "outputs": []
    },
    {
      "cell_type": "markdown",
      "source": [
        "Create a class for predicting ride prices"
      ],
      "metadata": {
        "id": "zKhLmepo9as5"
      }
    },
    {
      "cell_type": "code",
      "source": [
        "class RidePricePredictor:\n",
        "  def __init__(self,input={}):\n",
        "    self.distance = input['distance']\n",
        "    self.destination = self.getVal('data/destination_dict.pickle', input['destination'])\n",
        "    self.source = self.getVal('data/source_dict.pickle', input['source'])\n",
        "    self.name = self.getVal('data/name_dict.pickle', input['name'])\n",
        "    self.cab_type = self.getVal('data/cab_type_dict.pickle', input['cab_type'])\n",
        "    self.model = input['model']\n",
        "    \n",
        "  def predict(self):\n",
        "    prediction = self.model.predict([self.distance, self.destination, self.source, self.name, self.cab_type])\n",
        "    return prediction[0][0]\n",
        "\n",
        "  def getVal(self, file,key):\n",
        "    val = None\n",
        "    with open(file, 'rb') as f:\n",
        "      dictionary = pickle.load(f)\n",
        "      val = dictionary[key]\n",
        "    return val"
      ],
      "metadata": {
        "id": "NJRRDzrFQWkv"
      },
      "execution_count": 38,
      "outputs": []
    },
    {
      "cell_type": "code",
      "source": [
        "model = tf.keras.models.load_model('models/trained_model')"
      ],
      "metadata": {
        "id": "g87Py74cP3SN"
      },
      "execution_count": 39,
      "outputs": []
    },
    {
      "cell_type": "code",
      "source": [
        "input = {\"distance\":1.08,\n",
        "        \"destination\":\"Northeastern University\",\n",
        "        \"source\":\"Back Bay\",\n",
        "         \"name\":\"Lyft XL\",\n",
        "         \"cab_type\":\"Lyft\",\n",
        "         \"model\":tf.keras.models.load_model('models/trained_model')\n",
        "         }\n",
        "ride = RidePricePredictor(input)"
      ],
      "metadata": {
        "id": "4Lfwlrt96g5W"
      },
      "execution_count": 36,
      "outputs": []
    },
    {
      "cell_type": "markdown",
      "source": [
        "Making prediction"
      ],
      "metadata": {
        "id": "IduWfF039j0T"
      }
    },
    {
      "cell_type": "code",
      "source": [
        "ride.predict()"
      ],
      "metadata": {
        "id": "ZyTRiLUFQD67",
        "colab": {
          "base_uri": "https://localhost:8080/"
        },
        "outputId": "31c92465-ee34-4ba1-f395-a52c0465ceb4"
      },
      "execution_count": 40,
      "outputs": [
        {
          "output_type": "execute_result",
          "data": {
            "text/plain": [
              "10.833437"
            ]
          },
          "metadata": {},
          "execution_count": 40
        }
      ]
    },
    {
      "cell_type": "code",
      "source": [
        ""
      ],
      "metadata": {
        "id": "BQipdkXp8wXN"
      },
      "execution_count": null,
      "outputs": []
    }
  ]
}