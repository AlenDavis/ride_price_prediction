{
  "cells": [
    {
      "cell_type": "code",
      "execution_count": 1,
      "metadata": {
        "id": "gxNds6M-PCBW"
      },
      "outputs": [],
      "source": [
        "import tensorflow as tf\n",
        "from tensorflow import keras\n",
        "import numpy as np"
      ]
    },
    {
      "cell_type": "markdown",
      "metadata": {
        "id": "X1lBWIIwPSIS"
      },
      "source": [
        "We will use keras tuner to hyper tune the models"
      ]
    },
    {
      "cell_type": "code",
      "execution_count": 2,
      "metadata": {
        "colab": {
          "base_uri": "https://localhost:8080/"
        },
        "id": "S7MUsNfSPRPf",
        "outputId": "e6547698-999b-4a7f-ada1-48cbc9e67931"
      },
      "outputs": [
        {
          "output_type": "stream",
          "name": "stdout",
          "text": [
            "\u001b[?25l\r\u001b[K     |██▍                             | 10 kB 21.5 MB/s eta 0:00:01\r\u001b[K     |████▉                           | 20 kB 28.9 MB/s eta 0:00:01\r\u001b[K     |███████▎                        | 30 kB 16.8 MB/s eta 0:00:01\r\u001b[K     |█████████▋                      | 40 kB 7.4 MB/s eta 0:00:01\r\u001b[K     |████████████                    | 51 kB 5.9 MB/s eta 0:00:01\r\u001b[K     |██████████████▌                 | 61 kB 7.0 MB/s eta 0:00:01\r\u001b[K     |█████████████████               | 71 kB 7.5 MB/s eta 0:00:01\r\u001b[K     |███████████████████▎            | 81 kB 6.5 MB/s eta 0:00:01\r\u001b[K     |█████████████████████▊          | 92 kB 7.1 MB/s eta 0:00:01\r\u001b[K     |████████████████████████▏       | 102 kB 7.8 MB/s eta 0:00:01\r\u001b[K     |██████████████████████████▋     | 112 kB 7.8 MB/s eta 0:00:01\r\u001b[K     |█████████████████████████████   | 122 kB 7.8 MB/s eta 0:00:01\r\u001b[K     |███████████████████████████████▍| 133 kB 7.8 MB/s eta 0:00:01\r\u001b[K     |████████████████████████████████| 135 kB 7.8 MB/s \n",
            "\u001b[?25h"
          ]
        }
      ],
      "source": [
        "!pip install -q -U keras-tuner"
      ]
    },
    {
      "cell_type": "code",
      "execution_count": 3,
      "metadata": {
        "id": "EuE3JH8pPQhe"
      },
      "outputs": [],
      "source": [
        "import keras_tuner as kt\n",
        "import pandas as pd\n",
        "\n",
        "from tensorflow import keras\n",
        "from tensorflow.keras import layers"
      ]
    },
    {
      "cell_type": "markdown",
      "metadata": {
        "id": "yUMB6XPXPYxv"
      },
      "source": [
        "Copying the dataset"
      ]
    },
    {
      "cell_type": "code",
      "execution_count": 4,
      "metadata": {
        "id": "s3SornKhPXqO"
      },
      "outputs": [],
      "source": [
        "df = pd.read_csv('data/simpleData.csv')"
      ]
    },
    {
      "cell_type": "code",
      "execution_count": 5,
      "metadata": {
        "id": "U7p4oEAJQwyd"
      },
      "outputs": [],
      "source": [
        "train_dataset = df.sample(frac=0.8, random_state=0)\n",
        "test_dataset = df.drop(train_dataset.index)"
      ]
    },
    {
      "cell_type": "code",
      "execution_count": 6,
      "metadata": {
        "id": "cGd_puMVQysT"
      },
      "outputs": [],
      "source": [
        "train_features = train_dataset.copy()\n",
        "test_features = test_dataset.copy()\n",
        "\n",
        "train_labels = train_features.pop('price')\n",
        "test_labels = test_features.pop('price')"
      ]
    },
    {
      "cell_type": "code",
      "execution_count": 7,
      "metadata": {
        "id": "svDvKNqHQqVO"
      },
      "outputs": [],
      "source": [
        "normalizer = tf.keras.layers.Normalization(axis=-1)\n",
        "normalizer.adapt(np.array(train_features))"
      ]
    },
    {
      "cell_type": "markdown",
      "metadata": {
        "id": "myUrd5TwPjGN"
      },
      "source": [
        "Defining a model"
      ]
    },
    {
      "cell_type": "code",
      "execution_count": 12,
      "metadata": {
        "id": "7aTFjBHmPfqb"
      },
      "outputs": [],
      "source": [
        "def build_and_compile_model(hp):\n",
        "  model = keras.Sequential([\n",
        "      normalizer,\n",
        "      layers.Dense(units=hp.Int(\"units_l1\", 16, 512, step=16),\n",
        "                          use_bias=hp.Boolean(\"bias_l1\"),\n",
        "                          activation=hp.Choice(\"act_l1\", [\"relu\", \"tanh\"])),\n",
        "      layers.Dense(units=hp.Int(\"units_l2\", 16, 512, step=16), \n",
        "                          use_bias=hp.Boolean(\"bias_l2\"),\n",
        "                          activation=hp.Choice(\"act_l2\", [\"relu\", \"tanh\"])),\n",
        "      layers.Dense(units=hp.Int(\"units_l3\", 16, 512, step=16),\n",
        "                          use_bias=hp.Boolean(\"bias_l3\"),\n",
        "                          activation=hp.Choice(\"act_l3\", [\"relu\", \"tanh\"])),\n",
        "      layers.Dense(1)\n",
        "  ])\n",
        "\n",
        "  optim=hp.Choice(\"optimizer\",[\"sgd\",\"rmsprop\",\"adam\"])\n",
        "  \n",
        "  model.compile(optimizer=optim,\n",
        "                loss=\"mean_squared_error\", metrics=[\"mean_squared_error\"])\n",
        "  return model"
      ]
    },
    {
      "cell_type": "markdown",
      "metadata": {
        "id": "Of5AKNSCREeP"
      },
      "source": [
        "We are using a hyperband tuner and also adding a call back tp stop training after a certain validation loss"
      ]
    },
    {
      "cell_type": "code",
      "execution_count": 13,
      "metadata": {
        "colab": {
          "base_uri": "https://localhost:8080/"
        },
        "id": "dqDmgOImQQRa",
        "outputId": "85d50ebe-c774-4c7d-88c5-8e3aae256444"
      },
      "outputs": [
        {
          "output_type": "stream",
          "name": "stdout",
          "text": [
            "INFO:tensorflow:Reloading Oracle from existing project models/ride_model_param_tuning/oracle.json\n"
          ]
        }
      ],
      "source": [
        "tuner = kt.Hyperband(build_and_compile_model,\n",
        "                    objective=kt.Objective(name=\"val_loss\",direction=\"min\"),\n",
        "                     max_epochs=10,\n",
        "                     #max_trials=3,\n",
        "                     #executions_per_trial=2,\n",
        "                     factor=3,\n",
        "                     directory='models',\n",
        "                     project_name='ride_model_param_tuning')"
      ]
    },
    {
      "cell_type": "code",
      "execution_count": 14,
      "metadata": {
        "id": "5nJZ6Il9RQ7Z"
      },
      "outputs": [],
      "source": [
        "stop_early = tf.keras.callbacks.EarlyStopping(monitor='val_mean_squared_error', patience=5)"
      ]
    },
    {
      "cell_type": "code",
      "execution_count": 15,
      "metadata": {
        "colab": {
          "base_uri": "https://localhost:8080/"
        },
        "id": "zcUhZQ5vRVfB",
        "outputId": "9a8a03f4-95d6-4c7f-bc1a-1e7324e8eb35"
      },
      "outputs": [
        {
          "output_type": "stream",
          "name": "stdout",
          "text": [
            "Trial 30 Complete [00h 01m 23s]\n",
            "val_loss: 7.643059730529785\n",
            "\n",
            "Best val_loss So Far: 7.542886257171631\n",
            "Total elapsed time: 00h 15m 19s\n",
            "INFO:tensorflow:Oracle triggered exit\n"
          ]
        }
      ],
      "source": [
        "tuner.search(train_features, train_labels, epochs=50, validation_split=0.2, callbacks=[stop_early])"
      ]
    },
    {
      "cell_type": "code",
      "source": [
        "# Get the optimal hyperparameters\n",
        "best_hps=tuner.get_best_hyperparameters(num_trials=3)[0]\n",
        "\n",
        "print(f\"\"\"\n",
        "The hyperparameter search is complete. The optimizer of units in the densely-connected\n",
        "layer1 {best_hps.get('units_l1')}, activation {best_hps.get('act_l1')} and bias {best_hps.get('bias_l1')}\n",
        "layer2 {best_hps.get('units_l2')}, activation {best_hps.get('act_l2')} and bias {best_hps.get('bias_l2')}\n",
        "layer3 {best_hps.get('units_l3')}, activation {best_hps.get('act_l3')} and bias {best_hps.get('bias_l3')}\n",
        "is {best_hps.get('optimizer')}.\n",
        "\"\"\")"
      ],
      "metadata": {
        "colab": {
          "base_uri": "https://localhost:8080/"
        },
        "id": "u5qsrDG--gf0",
        "outputId": "ef35f448-121b-4e26-cde2-dd4c65e61c9b"
      },
      "execution_count": 17,
      "outputs": [
        {
          "output_type": "stream",
          "name": "stdout",
          "text": [
            "\n",
            "The hyperparameter search is complete. The optimizer of units in the densely-connected\n",
            "layer1 480, activation tanh and bias True\n",
            "layer2 112, activation tanh and bias False\n",
            "layer3 224, activation tanh and bias True\n",
            "is adam.\n",
            "\n"
          ]
        }
      ]
    },
    {
      "cell_type": "markdown",
      "metadata": {
        "id": "B0WCxJ31QPoF"
      },
      "source": [
        "We can use the results from tuning the parameters to build the model"
      ]
    },
    {
      "cell_type": "code",
      "execution_count": 19,
      "metadata": {
        "id": "MYK5CBW9NLE0"
      },
      "outputs": [],
      "source": [
        "def build_model(normalizer):\n",
        "  model = keras.Sequential([\n",
        "      normalizer,\n",
        "      layers.Dense(units=480,\n",
        "                          use_bias=True,\n",
        "                          activation=\"tanh\"),\n",
        "      layers.Dense(units=112,\n",
        "                          use_bias=False,\n",
        "                          activation=\"tanh\"),\n",
        "      layers.Dense(units=224,\n",
        "                          use_bias=True,\n",
        "                          activation=\"tanh\"),\n",
        "      layers.Dense(1)\n",
        "  ])  \n",
        "  model.compile(loss='mean_absolute_error',\n",
        "                optimizer=tf.keras.optimizers.Adam(0.001))\n",
        "  return model"
      ]
    },
    {
      "cell_type": "code",
      "source": [
        "dnn_model = build_model(normalizer)"
      ],
      "metadata": {
        "id": "9Y1AwMdDFAHS"
      },
      "execution_count": 20,
      "outputs": []
    },
    {
      "cell_type": "code",
      "source": [
        "dnn_model.summary()"
      ],
      "metadata": {
        "colab": {
          "base_uri": "https://localhost:8080/"
        },
        "id": "NWvGQpOQFGcL",
        "outputId": "a7bf7b9a-b216-451d-b11b-b565436d9030"
      },
      "execution_count": 21,
      "outputs": [
        {
          "output_type": "stream",
          "name": "stdout",
          "text": [
            "Model: \"sequential_1\"\n",
            "_________________________________________________________________\n",
            " Layer (type)                Output Shape              Param #   \n",
            "=================================================================\n",
            " normalization (Normalizatio  (None, 5)                11        \n",
            " n)                                                              \n",
            "                                                                 \n",
            " dense_4 (Dense)             (None, 480)               2880      \n",
            "                                                                 \n",
            " dense_5 (Dense)             (None, 112)               53760     \n",
            "                                                                 \n",
            " dense_6 (Dense)             (None, 224)               25312     \n",
            "                                                                 \n",
            " dense_7 (Dense)             (None, 1)                 225       \n",
            "                                                                 \n",
            "=================================================================\n",
            "Total params: 82,188\n",
            "Trainable params: 82,177\n",
            "Non-trainable params: 11\n",
            "_________________________________________________________________\n"
          ]
        }
      ]
    },
    {
      "cell_type": "code",
      "source": [
        "%%time\n",
        "history = dnn_model.fit(\n",
        "    train_features,\n",
        "    train_labels,\n",
        "    validation_split=0.2,\n",
        "    verbose=2, epochs=100)"
      ],
      "metadata": {
        "colab": {
          "base_uri": "https://localhost:8080/"
        },
        "id": "HdT0EvT3FIbO",
        "outputId": "dd1f8348-aff7-4307-dfa1-6f3aefed24b9"
      },
      "execution_count": 22,
      "outputs": [
        {
          "output_type": "stream",
          "name": "stdout",
          "text": [
            "Epoch 1/100\n",
            "1925/1925 - 6s - loss: 4.5078 - val_loss: 1.7178 - 6s/epoch - 3ms/step\n",
            "Epoch 2/100\n",
            "1925/1925 - 5s - loss: 1.5183 - val_loss: 1.4863 - 5s/epoch - 2ms/step\n",
            "Epoch 3/100\n",
            "1925/1925 - 5s - loss: 1.4398 - val_loss: 1.4712 - 5s/epoch - 2ms/step\n",
            "Epoch 4/100\n",
            "1925/1925 - 5s - loss: 1.4126 - val_loss: 1.4028 - 5s/epoch - 2ms/step\n",
            "Epoch 5/100\n",
            "1925/1925 - 5s - loss: 1.3992 - val_loss: 1.4249 - 5s/epoch - 2ms/step\n",
            "Epoch 6/100\n",
            "1925/1925 - 5s - loss: 1.4023 - val_loss: 1.3807 - 5s/epoch - 2ms/step\n",
            "Epoch 7/100\n",
            "1925/1925 - 5s - loss: 1.3707 - val_loss: 1.4237 - 5s/epoch - 2ms/step\n",
            "Epoch 8/100\n",
            "1925/1925 - 5s - loss: 1.3728 - val_loss: 1.3887 - 5s/epoch - 2ms/step\n",
            "Epoch 9/100\n",
            "1925/1925 - 5s - loss: 1.3600 - val_loss: 1.3931 - 5s/epoch - 2ms/step\n",
            "Epoch 10/100\n",
            "1925/1925 - 5s - loss: 1.3518 - val_loss: 1.3975 - 5s/epoch - 2ms/step\n",
            "Epoch 11/100\n",
            "1925/1925 - 5s - loss: 1.3484 - val_loss: 1.3558 - 5s/epoch - 2ms/step\n",
            "Epoch 12/100\n",
            "1925/1925 - 5s - loss: 1.3566 - val_loss: 1.3530 - 5s/epoch - 3ms/step\n",
            "Epoch 13/100\n",
            "1925/1925 - 5s - loss: 1.3305 - val_loss: 1.3540 - 5s/epoch - 2ms/step\n",
            "Epoch 14/100\n",
            "1925/1925 - 5s - loss: 1.3373 - val_loss: 1.3577 - 5s/epoch - 2ms/step\n",
            "Epoch 15/100\n",
            "1925/1925 - 4s - loss: 1.3289 - val_loss: 1.3599 - 4s/epoch - 2ms/step\n",
            "Epoch 16/100\n",
            "1925/1925 - 5s - loss: 1.3303 - val_loss: 1.3853 - 5s/epoch - 2ms/step\n",
            "Epoch 17/100\n",
            "1925/1925 - 5s - loss: 1.3234 - val_loss: 1.3553 - 5s/epoch - 2ms/step\n",
            "Epoch 18/100\n",
            "1925/1925 - 5s - loss: 1.3172 - val_loss: 1.3492 - 5s/epoch - 2ms/step\n",
            "Epoch 19/100\n",
            "1925/1925 - 5s - loss: 1.3182 - val_loss: 1.3541 - 5s/epoch - 2ms/step\n",
            "Epoch 20/100\n",
            "1925/1925 - 5s - loss: 1.3104 - val_loss: 1.3294 - 5s/epoch - 2ms/step\n",
            "Epoch 21/100\n",
            "1925/1925 - 5s - loss: 1.3104 - val_loss: 1.3304 - 5s/epoch - 2ms/step\n",
            "Epoch 22/100\n",
            "1925/1925 - 5s - loss: 1.3049 - val_loss: 1.3349 - 5s/epoch - 2ms/step\n",
            "Epoch 23/100\n",
            "1925/1925 - 5s - loss: 1.3077 - val_loss: 1.3359 - 5s/epoch - 2ms/step\n",
            "Epoch 24/100\n",
            "1925/1925 - 5s - loss: 1.3049 - val_loss: 1.3687 - 5s/epoch - 2ms/step\n",
            "Epoch 25/100\n",
            "1925/1925 - 5s - loss: 1.2992 - val_loss: 1.3291 - 5s/epoch - 2ms/step\n",
            "Epoch 26/100\n",
            "1925/1925 - 5s - loss: 1.2978 - val_loss: 1.3272 - 5s/epoch - 2ms/step\n",
            "Epoch 27/100\n",
            "1925/1925 - 5s - loss: 1.2974 - val_loss: 1.3293 - 5s/epoch - 2ms/step\n",
            "Epoch 28/100\n",
            "1925/1925 - 5s - loss: 1.2985 - val_loss: 1.3584 - 5s/epoch - 2ms/step\n",
            "Epoch 29/100\n",
            "1925/1925 - 5s - loss: 1.2933 - val_loss: 1.3293 - 5s/epoch - 2ms/step\n",
            "Epoch 30/100\n",
            "1925/1925 - 5s - loss: 1.2895 - val_loss: 1.3129 - 5s/epoch - 2ms/step\n",
            "Epoch 31/100\n",
            "1925/1925 - 5s - loss: 1.2914 - val_loss: 1.3227 - 5s/epoch - 2ms/step\n",
            "Epoch 32/100\n",
            "1925/1925 - 5s - loss: 1.2864 - val_loss: 1.3299 - 5s/epoch - 2ms/step\n",
            "Epoch 33/100\n",
            "1925/1925 - 5s - loss: 1.2935 - val_loss: 1.3536 - 5s/epoch - 2ms/step\n",
            "Epoch 34/100\n",
            "1925/1925 - 5s - loss: 1.2890 - val_loss: 1.3148 - 5s/epoch - 2ms/step\n",
            "Epoch 35/100\n",
            "1925/1925 - 5s - loss: 1.2817 - val_loss: 1.3248 - 5s/epoch - 3ms/step\n",
            "Epoch 36/100\n",
            "1925/1925 - 5s - loss: 1.2807 - val_loss: 1.3234 - 5s/epoch - 2ms/step\n",
            "Epoch 37/100\n",
            "1925/1925 - 5s - loss: 1.2824 - val_loss: 1.3066 - 5s/epoch - 2ms/step\n",
            "Epoch 38/100\n",
            "1925/1925 - 5s - loss: 1.2751 - val_loss: 1.3171 - 5s/epoch - 2ms/step\n",
            "Epoch 39/100\n",
            "1925/1925 - 5s - loss: 1.2787 - val_loss: 1.3125 - 5s/epoch - 2ms/step\n",
            "Epoch 40/100\n",
            "1925/1925 - 5s - loss: 1.2753 - val_loss: 1.3018 - 5s/epoch - 2ms/step\n",
            "Epoch 41/100\n",
            "1925/1925 - 5s - loss: 1.2766 - val_loss: 1.3110 - 5s/epoch - 2ms/step\n",
            "Epoch 42/100\n",
            "1925/1925 - 5s - loss: 1.2733 - val_loss: 1.3061 - 5s/epoch - 2ms/step\n",
            "Epoch 43/100\n",
            "1925/1925 - 5s - loss: 1.2762 - val_loss: 1.3175 - 5s/epoch - 2ms/step\n",
            "Epoch 44/100\n",
            "1925/1925 - 5s - loss: 1.2727 - val_loss: 1.3138 - 5s/epoch - 2ms/step\n",
            "Epoch 45/100\n",
            "1925/1925 - 5s - loss: 1.2727 - val_loss: 1.3018 - 5s/epoch - 2ms/step\n",
            "Epoch 46/100\n",
            "1925/1925 - 5s - loss: 1.2719 - val_loss: 1.3269 - 5s/epoch - 2ms/step\n",
            "Epoch 47/100\n",
            "1925/1925 - 5s - loss: 1.2676 - val_loss: 1.2986 - 5s/epoch - 2ms/step\n",
            "Epoch 48/100\n",
            "1925/1925 - 5s - loss: 1.2682 - val_loss: 1.3159 - 5s/epoch - 2ms/step\n",
            "Epoch 49/100\n",
            "1925/1925 - 5s - loss: 1.2688 - val_loss: 1.3094 - 5s/epoch - 2ms/step\n",
            "Epoch 50/100\n",
            "1925/1925 - 5s - loss: 1.2662 - val_loss: 1.3094 - 5s/epoch - 2ms/step\n",
            "Epoch 51/100\n",
            "1925/1925 - 5s - loss: 1.2599 - val_loss: 1.3146 - 5s/epoch - 2ms/step\n",
            "Epoch 52/100\n",
            "1925/1925 - 5s - loss: 1.2656 - val_loss: 1.3013 - 5s/epoch - 2ms/step\n",
            "Epoch 53/100\n",
            "1925/1925 - 5s - loss: 1.2579 - val_loss: 1.3224 - 5s/epoch - 2ms/step\n",
            "Epoch 54/100\n",
            "1925/1925 - 5s - loss: 1.2631 - val_loss: 1.2926 - 5s/epoch - 2ms/step\n",
            "Epoch 55/100\n",
            "1925/1925 - 5s - loss: 1.2595 - val_loss: 1.3192 - 5s/epoch - 2ms/step\n",
            "Epoch 56/100\n",
            "1925/1925 - 5s - loss: 1.2678 - val_loss: 1.3006 - 5s/epoch - 3ms/step\n",
            "Epoch 57/100\n",
            "1925/1925 - 5s - loss: 1.2604 - val_loss: 1.3031 - 5s/epoch - 2ms/step\n",
            "Epoch 58/100\n",
            "1925/1925 - 5s - loss: 1.2568 - val_loss: 1.2862 - 5s/epoch - 2ms/step\n",
            "Epoch 59/100\n",
            "1925/1925 - 5s - loss: 1.2598 - val_loss: 1.2996 - 5s/epoch - 2ms/step\n",
            "Epoch 60/100\n",
            "1925/1925 - 5s - loss: 1.2609 - val_loss: 1.2896 - 5s/epoch - 2ms/step\n",
            "Epoch 61/100\n",
            "1925/1925 - 5s - loss: 1.2609 - val_loss: 1.2869 - 5s/epoch - 2ms/step\n",
            "Epoch 62/100\n",
            "1925/1925 - 5s - loss: 1.2611 - val_loss: 1.3155 - 5s/epoch - 2ms/step\n",
            "Epoch 63/100\n",
            "1925/1925 - 5s - loss: 1.2558 - val_loss: 1.3016 - 5s/epoch - 2ms/step\n",
            "Epoch 64/100\n",
            "1925/1925 - 5s - loss: 1.2542 - val_loss: 1.3035 - 5s/epoch - 2ms/step\n",
            "Epoch 65/100\n",
            "1925/1925 - 5s - loss: 1.2601 - val_loss: 1.2945 - 5s/epoch - 2ms/step\n",
            "Epoch 66/100\n",
            "1925/1925 - 5s - loss: 1.2552 - val_loss: 1.3062 - 5s/epoch - 3ms/step\n",
            "Epoch 67/100\n",
            "1925/1925 - 5s - loss: 1.2558 - val_loss: 1.3147 - 5s/epoch - 2ms/step\n",
            "Epoch 68/100\n",
            "1925/1925 - 5s - loss: 1.2510 - val_loss: 1.2860 - 5s/epoch - 2ms/step\n",
            "Epoch 69/100\n",
            "1925/1925 - 5s - loss: 1.2583 - val_loss: 1.2998 - 5s/epoch - 3ms/step\n",
            "Epoch 70/100\n",
            "1925/1925 - 5s - loss: 1.2472 - val_loss: 1.3212 - 5s/epoch - 3ms/step\n",
            "Epoch 71/100\n",
            "1925/1925 - 5s - loss: 1.2547 - val_loss: 1.3011 - 5s/epoch - 3ms/step\n",
            "Epoch 72/100\n",
            "1925/1925 - 5s - loss: 1.2524 - val_loss: 1.3014 - 5s/epoch - 3ms/step\n",
            "Epoch 73/100\n",
            "1925/1925 - 5s - loss: 1.2526 - val_loss: 1.3071 - 5s/epoch - 3ms/step\n",
            "Epoch 74/100\n",
            "1925/1925 - 5s - loss: 1.2484 - val_loss: 1.2880 - 5s/epoch - 2ms/step\n",
            "Epoch 75/100\n",
            "1925/1925 - 5s - loss: 1.2504 - val_loss: 1.3023 - 5s/epoch - 3ms/step\n",
            "Epoch 76/100\n",
            "1925/1925 - 5s - loss: 1.2471 - val_loss: 1.3004 - 5s/epoch - 3ms/step\n",
            "Epoch 77/100\n",
            "1925/1925 - 5s - loss: 1.2459 - val_loss: 1.2832 - 5s/epoch - 3ms/step\n",
            "Epoch 78/100\n",
            "1925/1925 - 5s - loss: 1.2473 - val_loss: 1.2859 - 5s/epoch - 3ms/step\n",
            "Epoch 79/100\n",
            "1925/1925 - 5s - loss: 1.2496 - val_loss: 1.2911 - 5s/epoch - 3ms/step\n",
            "Epoch 80/100\n",
            "1925/1925 - 5s - loss: 1.2483 - val_loss: 1.2885 - 5s/epoch - 2ms/step\n",
            "Epoch 81/100\n",
            "1925/1925 - 5s - loss: 1.2490 - val_loss: 1.2952 - 5s/epoch - 3ms/step\n",
            "Epoch 82/100\n",
            "1925/1925 - 5s - loss: 1.2461 - val_loss: 1.2805 - 5s/epoch - 3ms/step\n",
            "Epoch 83/100\n",
            "1925/1925 - 5s - loss: 1.2437 - val_loss: 1.2828 - 5s/epoch - 2ms/step\n",
            "Epoch 84/100\n",
            "1925/1925 - 5s - loss: 1.2494 - val_loss: 1.2854 - 5s/epoch - 2ms/step\n",
            "Epoch 85/100\n",
            "1925/1925 - 5s - loss: 1.2498 - val_loss: 1.2759 - 5s/epoch - 3ms/step\n",
            "Epoch 86/100\n",
            "1925/1925 - 5s - loss: 1.2462 - val_loss: 1.2938 - 5s/epoch - 3ms/step\n",
            "Epoch 87/100\n",
            "1925/1925 - 5s - loss: 1.2476 - val_loss: 1.2930 - 5s/epoch - 2ms/step\n",
            "Epoch 88/100\n",
            "1925/1925 - 5s - loss: 1.2465 - val_loss: 1.2846 - 5s/epoch - 3ms/step\n",
            "Epoch 89/100\n",
            "1925/1925 - 5s - loss: 1.2434 - val_loss: 1.2891 - 5s/epoch - 3ms/step\n",
            "Epoch 90/100\n",
            "1925/1925 - 5s - loss: 1.2400 - val_loss: 1.2851 - 5s/epoch - 3ms/step\n",
            "Epoch 91/100\n",
            "1925/1925 - 5s - loss: 1.2426 - val_loss: 1.2835 - 5s/epoch - 3ms/step\n",
            "Epoch 92/100\n",
            "1925/1925 - 5s - loss: 1.2459 - val_loss: 1.2943 - 5s/epoch - 3ms/step\n",
            "Epoch 93/100\n",
            "1925/1925 - 5s - loss: 1.2416 - val_loss: 1.2779 - 5s/epoch - 3ms/step\n",
            "Epoch 94/100\n",
            "1925/1925 - 5s - loss: 1.2406 - val_loss: 1.3048 - 5s/epoch - 3ms/step\n",
            "Epoch 95/100\n",
            "1925/1925 - 5s - loss: 1.2441 - val_loss: 1.2747 - 5s/epoch - 3ms/step\n",
            "Epoch 96/100\n",
            "1925/1925 - 5s - loss: 1.2428 - val_loss: 1.2846 - 5s/epoch - 3ms/step\n",
            "Epoch 97/100\n",
            "1925/1925 - 5s - loss: 1.2411 - val_loss: 1.2807 - 5s/epoch - 3ms/step\n",
            "Epoch 98/100\n",
            "1925/1925 - 5s - loss: 1.2376 - val_loss: 1.2901 - 5s/epoch - 2ms/step\n",
            "Epoch 99/100\n",
            "1925/1925 - 5s - loss: 1.2438 - val_loss: 1.2804 - 5s/epoch - 2ms/step\n",
            "Epoch 100/100\n",
            "1925/1925 - 5s - loss: 1.2377 - val_loss: 1.2834 - 5s/epoch - 2ms/step\n",
            "CPU times: user 10min 44s, sys: 51.1 s, total: 11min 36s\n",
            "Wall time: 8min 22s\n"
          ]
        }
      ]
    },
    {
      "cell_type": "code",
      "source": [
        "dnn_model.save('models/trained_model')"
      ],
      "metadata": {
        "colab": {
          "base_uri": "https://localhost:8080/"
        },
        "id": "opDXfOahFLzs",
        "outputId": "15386288-3613-4285-cc00-34f4ec6954d7"
      },
      "execution_count": 23,
      "outputs": [
        {
          "output_type": "stream",
          "name": "stdout",
          "text": [
            "INFO:tensorflow:Assets written to: models/trained_model/assets\n"
          ]
        },
        {
          "output_type": "stream",
          "name": "stderr",
          "text": [
            "INFO:tensorflow:Assets written to: models/trained_model/assets\n"
          ]
        }
      ]
    },
    {
      "cell_type": "code",
      "source": [
        "!zip -r models.zip models"
      ],
      "metadata": {
        "colab": {
          "base_uri": "https://localhost:8080/"
        },
        "id": "itWmSzajMh9K",
        "outputId": "6d9d618e-5b8b-4aab-8773-c2376bf87104"
      },
      "execution_count": 27,
      "outputs": [
        {
          "output_type": "stream",
          "name": "stdout",
          "text": [
            "  adding: models/ (stored 0%)\n",
            "  adding: models/ride_model_param_tuning/ (stored 0%)\n",
            "  adding: models/ride_model_param_tuning/trial_0017/ (stored 0%)\n",
            "  adding: models/ride_model_param_tuning/trial_0017/trial.json (deflated 77%)\n",
            "  adding: models/ride_model_param_tuning/trial_0017/checkpoint.data-00000-of-00001 (deflated 8%)\n",
            "  adding: models/ride_model_param_tuning/trial_0017/checkpoint.index (deflated 52%)\n",
            "  adding: models/ride_model_param_tuning/trial_0017/checkpoint (deflated 48%)\n",
            "  adding: models/ride_model_param_tuning/trial_0012/ (stored 0%)\n",
            "  adding: models/ride_model_param_tuning/trial_0012/trial.json (deflated 77%)\n",
            "  adding: models/ride_model_param_tuning/trial_0012/checkpoint.data-00000-of-00001 (deflated 8%)\n",
            "  adding: models/ride_model_param_tuning/trial_0012/checkpoint.index (deflated 52%)\n",
            "  adding: models/ride_model_param_tuning/trial_0012/checkpoint (deflated 48%)\n",
            "  adding: models/ride_model_param_tuning/trial_0025/ (stored 0%)\n",
            "  adding: models/ride_model_param_tuning/trial_0025/trial.json (deflated 77%)\n",
            "  adding: models/ride_model_param_tuning/trial_0025/checkpoint.data-00000-of-00001 (deflated 7%)\n",
            "  adding: models/ride_model_param_tuning/trial_0025/checkpoint.index (deflated 63%)\n",
            "  adding: models/ride_model_param_tuning/trial_0025/checkpoint (deflated 48%)\n",
            "  adding: models/ride_model_param_tuning/trial_0001/ (stored 0%)\n",
            "  adding: models/ride_model_param_tuning/trial_0001/trial.json (deflated 77%)\n",
            "  adding: models/ride_model_param_tuning/trial_0001/checkpoint.data-00000-of-00001 (deflated 9%)\n",
            "  adding: models/ride_model_param_tuning/trial_0001/checkpoint.index (deflated 53%)\n",
            "  adding: models/ride_model_param_tuning/trial_0001/checkpoint (deflated 48%)\n",
            "  adding: models/ride_model_param_tuning/trial_0024/ (stored 0%)\n",
            "  adding: models/ride_model_param_tuning/trial_0024/trial.json (deflated 77%)\n",
            "  adding: models/ride_model_param_tuning/trial_0024/checkpoint.data-00000-of-00001 (deflated 7%)\n",
            "  adding: models/ride_model_param_tuning/trial_0024/checkpoint.index (deflated 59%)\n",
            "  adding: models/ride_model_param_tuning/trial_0024/checkpoint (deflated 48%)\n",
            "  adding: models/ride_model_param_tuning/trial_0014/ (stored 0%)\n",
            "  adding: models/ride_model_param_tuning/trial_0014/trial.json (deflated 77%)\n",
            "  adding: models/ride_model_param_tuning/trial_0014/checkpoint.data-00000-of-00001 (deflated 9%)\n",
            "  adding: models/ride_model_param_tuning/trial_0014/checkpoint.index (deflated 53%)\n",
            "  adding: models/ride_model_param_tuning/trial_0014/checkpoint (deflated 48%)\n",
            "  adding: models/ride_model_param_tuning/trial_0016/ (stored 0%)\n",
            "  adding: models/ride_model_param_tuning/trial_0016/trial.json (deflated 77%)\n",
            "  adding: models/ride_model_param_tuning/trial_0016/checkpoint.data-00000-of-00001 (deflated 9%)\n",
            "  adding: models/ride_model_param_tuning/trial_0016/checkpoint.index (deflated 53%)\n",
            "  adding: models/ride_model_param_tuning/trial_0016/checkpoint (deflated 48%)\n",
            "  adding: models/ride_model_param_tuning/tuner0.json (stored 0%)\n",
            "  adding: models/ride_model_param_tuning/trial_0010/ (stored 0%)\n",
            "  adding: models/ride_model_param_tuning/trial_0010/trial.json (deflated 77%)\n",
            "  adding: models/ride_model_param_tuning/trial_0010/checkpoint.data-00000-of-00001 (deflated 8%)\n",
            "  adding: models/ride_model_param_tuning/trial_0010/checkpoint.index (deflated 50%)\n",
            "  adding: models/ride_model_param_tuning/trial_0010/checkpoint (deflated 48%)\n",
            "  adding: models/ride_model_param_tuning/trial_0021/ (stored 0%)\n",
            "  adding: models/ride_model_param_tuning/trial_0021/trial.json (deflated 77%)\n",
            "  adding: models/ride_model_param_tuning/trial_0021/checkpoint.data-00000-of-00001 (deflated 7%)\n",
            "  adding: models/ride_model_param_tuning/trial_0021/checkpoint.index (deflated 64%)\n",
            "  adding: models/ride_model_param_tuning/trial_0021/checkpoint (deflated 48%)\n",
            "  adding: models/ride_model_param_tuning/trial_0028/ (stored 0%)\n",
            "  adding: models/ride_model_param_tuning/trial_0028/trial.json (deflated 77%)\n",
            "  adding: models/ride_model_param_tuning/trial_0028/checkpoint.data-00000-of-00001 (deflated 8%)\n",
            "  adding: models/ride_model_param_tuning/trial_0028/checkpoint.index (deflated 50%)\n",
            "  adding: models/ride_model_param_tuning/trial_0028/checkpoint (deflated 48%)\n",
            "  adding: models/ride_model_param_tuning/trial_0002/ (stored 0%)\n",
            "  adding: models/ride_model_param_tuning/trial_0002/trial.json (deflated 77%)\n",
            "  adding: models/ride_model_param_tuning/trial_0002/checkpoint.data-00000-of-00001 (deflated 8%)\n",
            "  adding: models/ride_model_param_tuning/trial_0002/checkpoint.index (deflated 51%)\n",
            "  adding: models/ride_model_param_tuning/trial_0002/checkpoint (deflated 48%)\n",
            "  adding: models/ride_model_param_tuning/trial_0015/ (stored 0%)\n",
            "  adding: models/ride_model_param_tuning/trial_0015/trial.json (deflated 77%)\n",
            "  adding: models/ride_model_param_tuning/trial_0015/checkpoint.data-00000-of-00001 (deflated 8%)\n",
            "  adding: models/ride_model_param_tuning/trial_0015/checkpoint.index (deflated 62%)\n",
            "  adding: models/ride_model_param_tuning/trial_0015/checkpoint (deflated 48%)\n",
            "  adding: models/ride_model_param_tuning/trial_0000/ (stored 0%)\n",
            "  adding: models/ride_model_param_tuning/trial_0000/trial.json (deflated 77%)\n",
            "  adding: models/ride_model_param_tuning/trial_0000/checkpoint.data-00000-of-00001 (deflated 7%)\n",
            "  adding: models/ride_model_param_tuning/trial_0000/checkpoint.index (deflated 61%)\n",
            "  adding: models/ride_model_param_tuning/trial_0000/checkpoint (deflated 48%)\n",
            "  adding: models/ride_model_param_tuning/trial_0005/ (stored 0%)\n",
            "  adding: models/ride_model_param_tuning/trial_0005/trial.json (deflated 77%)\n",
            "  adding: models/ride_model_param_tuning/trial_0005/checkpoint.data-00000-of-00001 (deflated 7%)\n",
            "  adding: models/ride_model_param_tuning/trial_0005/checkpoint.index (deflated 59%)\n",
            "  adding: models/ride_model_param_tuning/trial_0005/checkpoint (deflated 48%)\n",
            "  adding: models/ride_model_param_tuning/trial_0009/ (stored 0%)\n",
            "  adding: models/ride_model_param_tuning/trial_0009/trial.json (deflated 77%)\n",
            "  adding: models/ride_model_param_tuning/trial_0009/checkpoint.data-00000-of-00001 (deflated 9%)\n",
            "  adding: models/ride_model_param_tuning/trial_0009/checkpoint.index (deflated 62%)\n",
            "  adding: models/ride_model_param_tuning/trial_0009/checkpoint (deflated 48%)\n",
            "  adding: models/ride_model_param_tuning/trial_0006/ (stored 0%)\n",
            "  adding: models/ride_model_param_tuning/trial_0006/trial.json (deflated 77%)\n",
            "  adding: models/ride_model_param_tuning/trial_0006/checkpoint.data-00000-of-00001 (deflated 7%)\n",
            "  adding: models/ride_model_param_tuning/trial_0006/checkpoint.index (deflated 62%)\n",
            "  adding: models/ride_model_param_tuning/trial_0006/checkpoint (deflated 48%)\n",
            "  adding: models/ride_model_param_tuning/trial_0022/ (stored 0%)\n",
            "  adding: models/ride_model_param_tuning/trial_0022/trial.json (deflated 77%)\n",
            "  adding: models/ride_model_param_tuning/trial_0022/checkpoint.data-00000-of-00001 (deflated 8%)\n",
            "  adding: models/ride_model_param_tuning/trial_0022/checkpoint.index (deflated 50%)\n",
            "  adding: models/ride_model_param_tuning/trial_0022/checkpoint (deflated 48%)\n",
            "  adding: models/ride_model_param_tuning/trial_0026/ (stored 0%)\n",
            "  adding: models/ride_model_param_tuning/trial_0026/trial.json (deflated 77%)\n",
            "  adding: models/ride_model_param_tuning/trial_0026/checkpoint.data-00000-of-00001 (deflated 8%)\n",
            "  adding: models/ride_model_param_tuning/trial_0026/checkpoint.index (deflated 62%)\n",
            "  adding: models/ride_model_param_tuning/trial_0026/checkpoint (deflated 48%)\n",
            "  adding: models/ride_model_param_tuning/trial_0027/ (stored 0%)\n",
            "  adding: models/ride_model_param_tuning/trial_0027/trial.json (deflated 77%)\n",
            "  adding: models/ride_model_param_tuning/trial_0027/checkpoint.data-00000-of-00001 (deflated 9%)\n",
            "  adding: models/ride_model_param_tuning/trial_0027/checkpoint.index (deflated 62%)\n",
            "  adding: models/ride_model_param_tuning/trial_0027/checkpoint (deflated 48%)\n",
            "  adding: models/ride_model_param_tuning/trial_0019/ (stored 0%)\n",
            "  adding: models/ride_model_param_tuning/trial_0019/trial.json (deflated 77%)\n",
            "  adding: models/ride_model_param_tuning/trial_0019/checkpoint.data-00000-of-00001 (deflated 15%)\n",
            "  adding: models/ride_model_param_tuning/trial_0019/checkpoint.index (deflated 61%)\n",
            "  adding: models/ride_model_param_tuning/trial_0019/checkpoint (deflated 48%)\n",
            "  adding: models/ride_model_param_tuning/trial_0029/ (stored 0%)\n",
            "  adding: models/ride_model_param_tuning/trial_0029/trial.json (deflated 77%)\n",
            "  adding: models/ride_model_param_tuning/trial_0029/checkpoint.data-00000-of-00001 (deflated 8%)\n",
            "  adding: models/ride_model_param_tuning/trial_0029/checkpoint.index (deflated 52%)\n",
            "  adding: models/ride_model_param_tuning/trial_0029/checkpoint (deflated 48%)\n",
            "  adding: models/ride_model_param_tuning/trial_0018/ (stored 0%)\n",
            "  adding: models/ride_model_param_tuning/trial_0018/trial.json (deflated 77%)\n",
            "  adding: models/ride_model_param_tuning/trial_0018/checkpoint.data-00000-of-00001 (deflated 7%)\n",
            "  adding: models/ride_model_param_tuning/trial_0018/checkpoint.index (deflated 63%)\n",
            "  adding: models/ride_model_param_tuning/trial_0018/checkpoint (deflated 48%)\n",
            "  adding: models/ride_model_param_tuning/trial_0003/ (stored 0%)\n",
            "  adding: models/ride_model_param_tuning/trial_0003/trial.json (deflated 77%)\n",
            "  adding: models/ride_model_param_tuning/trial_0003/checkpoint.data-00000-of-00001 (deflated 12%)\n",
            "  adding: models/ride_model_param_tuning/trial_0003/checkpoint.index (deflated 62%)\n",
            "  adding: models/ride_model_param_tuning/trial_0003/checkpoint (deflated 48%)\n",
            "  adding: models/ride_model_param_tuning/trial_0008/ (stored 0%)\n",
            "  adding: models/ride_model_param_tuning/trial_0008/trial.json (deflated 77%)\n",
            "  adding: models/ride_model_param_tuning/trial_0008/checkpoint.data-00000-of-00001 (deflated 8%)\n",
            "  adding: models/ride_model_param_tuning/trial_0008/checkpoint.index (deflated 52%)\n",
            "  adding: models/ride_model_param_tuning/trial_0008/checkpoint (deflated 48%)\n",
            "  adding: models/ride_model_param_tuning/trial_0013/ (stored 0%)\n",
            "  adding: models/ride_model_param_tuning/trial_0013/trial.json (deflated 77%)\n",
            "  adding: models/ride_model_param_tuning/trial_0013/checkpoint.data-00000-of-00001 (deflated 7%)\n",
            "  adding: models/ride_model_param_tuning/trial_0013/checkpoint.index (deflated 59%)\n",
            "  adding: models/ride_model_param_tuning/trial_0013/checkpoint (deflated 48%)\n",
            "  adding: models/ride_model_param_tuning/oracle.json (deflated 66%)\n",
            "  adding: models/ride_model_param_tuning/trial_0020/ (stored 0%)\n",
            "  adding: models/ride_model_param_tuning/trial_0020/trial.json (deflated 77%)\n",
            "  adding: models/ride_model_param_tuning/trial_0020/checkpoint.data-00000-of-00001 (deflated 7%)\n",
            "  adding: models/ride_model_param_tuning/trial_0020/checkpoint.index (deflated 59%)\n",
            "  adding: models/ride_model_param_tuning/trial_0020/checkpoint (deflated 48%)\n",
            "  adding: models/ride_model_param_tuning/trial_0011/ (stored 0%)\n",
            "  adding: models/ride_model_param_tuning/trial_0011/trial.json (deflated 77%)\n",
            "  adding: models/ride_model_param_tuning/trial_0011/checkpoint.data-00000-of-00001 (deflated 7%)\n",
            "  adding: models/ride_model_param_tuning/trial_0011/checkpoint.index (deflated 60%)\n",
            "  adding: models/ride_model_param_tuning/trial_0011/checkpoint (deflated 48%)\n",
            "  adding: models/ride_model_param_tuning/trial_0007/ (stored 0%)\n",
            "  adding: models/ride_model_param_tuning/trial_0007/trial.json (deflated 77%)\n",
            "  adding: models/ride_model_param_tuning/trial_0007/checkpoint.data-00000-of-00001 (deflated 7%)\n",
            "  adding: models/ride_model_param_tuning/trial_0007/checkpoint.index (deflated 61%)\n",
            "  adding: models/ride_model_param_tuning/trial_0007/checkpoint (deflated 48%)\n",
            "  adding: models/ride_model_param_tuning/trial_0004/ (stored 0%)\n",
            "  adding: models/ride_model_param_tuning/trial_0004/trial.json (deflated 77%)\n",
            "  adding: models/ride_model_param_tuning/trial_0004/checkpoint.data-00000-of-00001 (deflated 10%)\n",
            "  adding: models/ride_model_param_tuning/trial_0004/checkpoint.index (deflated 58%)\n",
            "  adding: models/ride_model_param_tuning/trial_0004/checkpoint (deflated 48%)\n",
            "  adding: models/ride_model_param_tuning/trial_0023/ (stored 0%)\n",
            "  adding: models/ride_model_param_tuning/trial_0023/trial.json (deflated 77%)\n",
            "  adding: models/ride_model_param_tuning/trial_0023/checkpoint.data-00000-of-00001 (deflated 8%)\n",
            "  adding: models/ride_model_param_tuning/trial_0023/checkpoint.index (deflated 50%)\n",
            "  adding: models/ride_model_param_tuning/trial_0023/checkpoint (deflated 48%)\n",
            "  adding: models/trained_model/ (stored 0%)\n",
            "  adding: models/trained_model/variables/ (stored 0%)\n",
            "  adding: models/trained_model/variables/variables.index (deflated 63%)\n",
            "  adding: models/trained_model/variables/variables.data-00000-of-00001 (deflated 11%)\n",
            "  adding: models/trained_model/saved_model.pb (deflated 87%)\n",
            "  adding: models/trained_model/keras_metadata.pb (deflated 89%)\n",
            "  adding: models/trained_model/assets/ (stored 0%)\n"
          ]
        }
      ]
    },
    {
      "cell_type": "code",
      "source": [
        ""
      ],
      "metadata": {
        "id": "diexkr56NDIo"
      },
      "execution_count": null,
      "outputs": []
    }
  ],
  "metadata": {
    "colab": {
      "collapsed_sections": [],
      "name": "Hyper Parameter Tuning.ipynb",
      "provenance": []
    },
    "kernelspec": {
      "display_name": "Python 3",
      "name": "python3"
    },
    "language_info": {
      "name": "python"
    }
  },
  "nbformat": 4,
  "nbformat_minor": 0
}