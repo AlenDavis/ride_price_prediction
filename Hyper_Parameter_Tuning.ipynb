{
  "cells": [
    {
      "cell_type": "code",
      "execution_count": 5,
      "metadata": {
        "id": "gxNds6M-PCBW"
      },
      "outputs": [],
      "source": [
        "import tensorflow as tf\n",
        "from tensorflow import keras\n",
        "import numpy as np"
      ]
    },
    {
      "cell_type": "markdown",
      "metadata": {
        "id": "X1lBWIIwPSIS"
      },
      "source": [
        "We will use keras tuner to hyper tune the models"
      ]
    },
    {
      "cell_type": "code",
      "execution_count": 6,
      "metadata": {
        "id": "S7MUsNfSPRPf"
      },
      "outputs": [],
      "source": [
        "!pip install -q -U keras-tuner"
      ]
    },
    {
      "cell_type": "code",
      "execution_count": 7,
      "metadata": {
        "id": "EuE3JH8pPQhe"
      },
      "outputs": [],
      "source": [
        "import keras_tuner as kt\n",
        "import pandas as pd\n",
        "\n",
        "from tensorflow import keras\n",
        "from tensorflow.keras import layers"
      ]
    },
    {
      "cell_type": "markdown",
      "metadata": {
        "id": "yUMB6XPXPYxv"
      },
      "source": [
        "Copying the dataset"
      ]
    },
    {
      "cell_type": "code",
      "execution_count": 8,
      "metadata": {
        "id": "s3SornKhPXqO"
      },
      "outputs": [],
      "source": [
        "df = pd.read_csv('data/simpleData.csv')"
      ]
    },
    {
      "cell_type": "code",
      "execution_count": 9,
      "metadata": {
        "id": "U7p4oEAJQwyd"
      },
      "outputs": [],
      "source": [
        "train_dataset = df.sample(frac=0.8, random_state=0)\n",
        "test_dataset = df.drop(train_dataset.index)"
      ]
    },
    {
      "cell_type": "code",
      "execution_count": 10,
      "metadata": {
        "id": "cGd_puMVQysT"
      },
      "outputs": [],
      "source": [
        "train_features = train_dataset.copy()\n",
        "test_features = test_dataset.copy()\n",
        "\n",
        "train_labels = train_features.pop('price')\n",
        "test_labels = test_features.pop('price')"
      ]
    },
    {
      "cell_type": "code",
      "execution_count": 11,
      "metadata": {
        "id": "svDvKNqHQqVO"
      },
      "outputs": [],
      "source": [
        "normalizer = tf.keras.layers.Normalization(axis=-1)\n",
        "normalizer.adapt(np.array(train_features))"
      ]
    },
    {
      "cell_type": "markdown",
      "metadata": {
        "id": "myUrd5TwPjGN"
      },
      "source": [
        "Defining a model"
      ]
    },
    {
      "cell_type": "code",
      "execution_count": 12,
      "metadata": {
        "id": "7aTFjBHmPfqb"
      },
      "outputs": [],
      "source": [
        "def build_and_compile_model(hp):\n",
        "  model = keras.Sequential([\n",
        "      normalizer,\n",
        "      layers.Dense(units=hp.Int(\"units_l1\", 16, 512, step=16),\n",
        "                          use_bias=hp.Boolean(\"bias_l1\"),\n",
        "                          activation=hp.Choice(\"act_l1\", [\"relu\", \"tanh\"])),\n",
        "      layers.Dense(units=hp.Int(\"units_l2\", 16, 512, step=16), \n",
        "                          use_bias=hp.Boolean(\"bias_l2\"),\n",
        "                          activation=hp.Choice(\"act_l2\", [\"relu\", \"tanh\"])),\n",
        "      layers.Dense(units=hp.Int(\"units_l3\", 16, 512, step=16),\n",
        "                          use_bias=hp.Boolean(\"bias_l3\"),\n",
        "                          activation=hp.Choice(\"act_l3\", [\"relu\", \"tanh\"])),\n",
        "      layers.Dense(1)\n",
        "  ])\n",
        "\n",
        "  optim=hp.Choice(\"optimizer\",[\"sgd\",\"rmsprop\",\"adam\"])\n",
        "  \n",
        "  model.compile(optimizer=optim,\n",
        "                loss=\"mean_squared_error\", metrics=[\"mean_squared_error\"])\n",
        "  return model"
      ]
    },
    {
      "cell_type": "markdown",
      "metadata": {
        "id": "Of5AKNSCREeP"
      },
      "source": [
        "We are using a hyperband tuner and also adding a call back tp stop training after a certain validation loss"
      ]
    },
    {
      "cell_type": "code",
      "execution_count": 13,
      "metadata": {
        "id": "dqDmgOImQQRa"
      },
      "outputs": [],
      "source": [
        "tuner = kt.Hyperband(build_and_compile_model,\n",
        "                    objective=kt.Objective(name=\"val_loss\",direction=\"min\"),\n",
        "                     max_epochs=10,\n",
        "                     #max_trials=3,\n",
        "                     #executions_per_trial=2,\n",
        "                     factor=3,\n",
        "                     directory='models',\n",
        "                     project_name='ride_model_param_tuning')"
      ]
    },
    {
      "cell_type": "code",
      "execution_count": 14,
      "metadata": {
        "id": "5nJZ6Il9RQ7Z"
      },
      "outputs": [],
      "source": [
        "stop_early = tf.keras.callbacks.EarlyStopping(monitor='val_mean_squared_error', patience=5)"
      ]
    },
    {
      "cell_type": "code",
      "execution_count": 15,
      "metadata": {
        "colab": {
          "base_uri": "https://localhost:8080/"
        },
        "id": "zcUhZQ5vRVfB",
        "outputId": "9dd7faee-b79d-4f97-f52c-b41b93f584fa"
      },
      "outputs": [
        {
          "output_type": "stream",
          "name": "stdout",
          "text": [
            "Trial 30 Complete [00h 01m 18s]\n",
            "val_loss: 7.399877071380615\n",
            "\n",
            "Best val_loss So Far: 7.377449989318848\n",
            "Total elapsed time: 00h 25m 04s\n",
            "INFO:tensorflow:Oracle triggered exit\n"
          ]
        }
      ],
      "source": [
        "tuner.search(train_features, train_labels, epochs=50, validation_split=0.2, callbacks=[stop_early])"
      ]
    },
    {
      "cell_type": "code",
      "source": [
        "# Get the optimal hyperparameters\n",
        "best_hps=tuner.get_best_hyperparameters(num_trials=3)[0]\n",
        "\n",
        "print(f\"\"\"\n",
        "The hyperparameter search is complete. The optimizer of units in the densely-connected\n",
        "layer1 {best_hps.get('units_l1')}, activation {best_hps.get('act_l1')} and bias {best_hps.get('bias_l1')}\n",
        "layer2 {best_hps.get('units_l2')}, activation {best_hps.get('act_l2')} and bias {best_hps.get('bias_l2')}\n",
        "layer3 {best_hps.get('units_l3')}, activation {best_hps.get('act_l3')} and bias {best_hps.get('bias_l3')}\n",
        "is {best_hps.get('optimizer')}.\n",
        "\"\"\")"
      ],
      "metadata": {
        "colab": {
          "base_uri": "https://localhost:8080/"
        },
        "id": "u5qsrDG--gf0",
        "outputId": "ab6baa3f-def3-427a-ad89-a51dd56f158b"
      },
      "execution_count": 16,
      "outputs": [
        {
          "output_type": "stream",
          "name": "stdout",
          "text": [
            "\n",
            "The hyperparameter search is complete. The optimizer of units in the densely-connected\n",
            "layer1 416, activation relu and bias False\n",
            "layer2 192, activation tanh and bias False\n",
            "layer3 96, activation tanh and bias False\n",
            "is adam.\n",
            "\n"
          ]
        }
      ]
    },
    {
      "cell_type": "markdown",
      "metadata": {
        "id": "B0WCxJ31QPoF"
      },
      "source": [
        "We can use the results from tuning the parameters to build the model"
      ]
    },
    {
      "cell_type": "code",
      "execution_count": 21,
      "metadata": {
        "id": "MYK5CBW9NLE0"
      },
      "outputs": [],
      "source": [
        "def build_model(normalizer):\n",
        "  model = keras.Sequential([\n",
        "      normalizer,\n",
        "      layers.Dense(units=416,\n",
        "                          use_bias=False,\n",
        "                          activation=\"relu\"),\n",
        "      layers.Dense(units=192,\n",
        "                          use_bias=False,\n",
        "                          activation=\"tanh\"),\n",
        "      layers.Dense(units=96,\n",
        "                          use_bias=False,\n",
        "                          activation=\"tanh\"),\n",
        "      layers.Dense(1)\n",
        "  ])  \n",
        "  model.compile(loss='mean_absolute_error',\n",
        "                optimizer=tf.keras.optimizers.Adam(0.0001))\n",
        "  return model"
      ]
    },
    {
      "cell_type": "code",
      "source": [
        "dnn_model = build_model(normalizer)"
      ],
      "metadata": {
        "id": "9Y1AwMdDFAHS"
      },
      "execution_count": 22,
      "outputs": []
    },
    {
      "cell_type": "code",
      "source": [
        "dnn_model.summary()"
      ],
      "metadata": {
        "colab": {
          "base_uri": "https://localhost:8080/"
        },
        "id": "NWvGQpOQFGcL",
        "outputId": "7b3e95bf-08e8-4912-a2ec-11512f834093"
      },
      "execution_count": 23,
      "outputs": [
        {
          "output_type": "stream",
          "name": "stdout",
          "text": [
            "Model: \"sequential_2\"\n",
            "_________________________________________________________________\n",
            " Layer (type)                Output Shape              Param #   \n",
            "=================================================================\n",
            " normalization (Normalizatio  (None, 5)                11        \n",
            " n)                                                              \n",
            "                                                                 \n",
            " dense_8 (Dense)             (None, 416)               2080      \n",
            "                                                                 \n",
            " dense_9 (Dense)             (None, 192)               79872     \n",
            "                                                                 \n",
            " dense_10 (Dense)            (None, 96)                18432     \n",
            "                                                                 \n",
            " dense_11 (Dense)            (None, 1)                 97        \n",
            "                                                                 \n",
            "=================================================================\n",
            "Total params: 100,492\n",
            "Trainable params: 100,481\n",
            "Non-trainable params: 11\n",
            "_________________________________________________________________\n"
          ]
        }
      ]
    },
    {
      "cell_type": "code",
      "source": [
        "%%time\n",
        "history = dnn_model.fit(\n",
        "    train_features,\n",
        "    train_labels,\n",
        "    validation_split=0.2,\n",
        "    verbose=2, epochs=200)"
      ],
      "metadata": {
        "colab": {
          "base_uri": "https://localhost:8080/"
        },
        "id": "HdT0EvT3FIbO",
        "outputId": "69b170c5-22ca-4b15-d85a-7511443fea31"
      },
      "execution_count": 24,
      "outputs": [
        {
          "output_type": "stream",
          "name": "stdout",
          "text": [
            "Epoch 1/200\n",
            "1925/1925 - 11s - loss: 5.7140 - val_loss: 4.6919 - 11s/epoch - 6ms/step\n",
            "Epoch 2/200\n",
            "1925/1925 - 5s - loss: 4.5342 - val_loss: 4.5161 - 5s/epoch - 3ms/step\n",
            "Epoch 3/200\n",
            "1925/1925 - 5s - loss: 4.2450 - val_loss: 4.1278 - 5s/epoch - 3ms/step\n",
            "Epoch 4/200\n",
            "1925/1925 - 5s - loss: 3.7699 - val_loss: 3.4422 - 5s/epoch - 3ms/step\n",
            "Epoch 5/200\n",
            "1925/1925 - 5s - loss: 2.8245 - val_loss: 2.3695 - 5s/epoch - 3ms/step\n",
            "Epoch 6/200\n",
            "1925/1925 - 5s - loss: 2.0853 - val_loss: 1.9508 - 5s/epoch - 3ms/step\n",
            "Epoch 7/200\n",
            "1925/1925 - 5s - loss: 1.8018 - val_loss: 1.7599 - 5s/epoch - 3ms/step\n",
            "Epoch 8/200\n",
            "1925/1925 - 5s - loss: 1.6716 - val_loss: 1.7112 - 5s/epoch - 3ms/step\n",
            "Epoch 9/200\n",
            "1925/1925 - 5s - loss: 1.6127 - val_loss: 1.6254 - 5s/epoch - 3ms/step\n",
            "Epoch 10/200\n",
            "1925/1925 - 5s - loss: 1.5711 - val_loss: 1.6135 - 5s/epoch - 3ms/step\n",
            "Epoch 11/200\n",
            "1925/1925 - 5s - loss: 1.5399 - val_loss: 1.5700 - 5s/epoch - 3ms/step\n",
            "Epoch 12/200\n",
            "1925/1925 - 5s - loss: 1.5169 - val_loss: 1.5582 - 5s/epoch - 3ms/step\n",
            "Epoch 13/200\n",
            "1925/1925 - 5s - loss: 1.4982 - val_loss: 1.5132 - 5s/epoch - 3ms/step\n",
            "Epoch 14/200\n",
            "1925/1925 - 5s - loss: 1.4745 - val_loss: 1.5095 - 5s/epoch - 3ms/step\n",
            "Epoch 15/200\n",
            "1925/1925 - 5s - loss: 1.4608 - val_loss: 1.4723 - 5s/epoch - 3ms/step\n",
            "Epoch 16/200\n",
            "1925/1925 - 5s - loss: 1.4482 - val_loss: 1.5023 - 5s/epoch - 3ms/step\n",
            "Epoch 17/200\n",
            "1925/1925 - 5s - loss: 1.4288 - val_loss: 1.4970 - 5s/epoch - 3ms/step\n",
            "Epoch 18/200\n",
            "1925/1925 - 5s - loss: 1.4139 - val_loss: 1.5070 - 5s/epoch - 3ms/step\n",
            "Epoch 19/200\n",
            "1925/1925 - 5s - loss: 1.4060 - val_loss: 1.5019 - 5s/epoch - 3ms/step\n",
            "Epoch 20/200\n",
            "1925/1925 - 5s - loss: 1.3938 - val_loss: 1.4104 - 5s/epoch - 3ms/step\n",
            "Epoch 21/200\n",
            "1925/1925 - 5s - loss: 1.3854 - val_loss: 1.4046 - 5s/epoch - 3ms/step\n",
            "Epoch 22/200\n",
            "1925/1925 - 6s - loss: 1.3801 - val_loss: 1.4157 - 6s/epoch - 3ms/step\n",
            "Epoch 23/200\n",
            "1925/1925 - 5s - loss: 1.3754 - val_loss: 1.4219 - 5s/epoch - 3ms/step\n",
            "Epoch 24/200\n",
            "1925/1925 - 5s - loss: 1.3727 - val_loss: 1.4380 - 5s/epoch - 3ms/step\n",
            "Epoch 25/200\n",
            "1925/1925 - 5s - loss: 1.3701 - val_loss: 1.3977 - 5s/epoch - 3ms/step\n",
            "Epoch 26/200\n",
            "1925/1925 - 5s - loss: 1.3646 - val_loss: 1.4326 - 5s/epoch - 3ms/step\n",
            "Epoch 27/200\n",
            "1925/1925 - 5s - loss: 1.3667 - val_loss: 1.3976 - 5s/epoch - 3ms/step\n",
            "Epoch 28/200\n",
            "1925/1925 - 5s - loss: 1.3590 - val_loss: 1.4187 - 5s/epoch - 3ms/step\n",
            "Epoch 29/200\n",
            "1925/1925 - 5s - loss: 1.3614 - val_loss: 1.3974 - 5s/epoch - 3ms/step\n",
            "Epoch 30/200\n",
            "1925/1925 - 5s - loss: 1.3603 - val_loss: 1.3897 - 5s/epoch - 3ms/step\n",
            "Epoch 31/200\n",
            "1925/1925 - 5s - loss: 1.3598 - val_loss: 1.4000 - 5s/epoch - 3ms/step\n",
            "Epoch 32/200\n",
            "1925/1925 - 5s - loss: 1.3544 - val_loss: 1.3888 - 5s/epoch - 3ms/step\n",
            "Epoch 33/200\n",
            "1925/1925 - 5s - loss: 1.3539 - val_loss: 1.3822 - 5s/epoch - 3ms/step\n",
            "Epoch 34/200\n",
            "1925/1925 - 5s - loss: 1.3550 - val_loss: 1.3997 - 5s/epoch - 3ms/step\n",
            "Epoch 35/200\n",
            "1925/1925 - 5s - loss: 1.3501 - val_loss: 1.3901 - 5s/epoch - 3ms/step\n",
            "Epoch 36/200\n",
            "1925/1925 - 5s - loss: 1.3497 - val_loss: 1.4006 - 5s/epoch - 3ms/step\n",
            "Epoch 37/200\n",
            "1925/1925 - 5s - loss: 1.3478 - val_loss: 1.3680 - 5s/epoch - 3ms/step\n",
            "Epoch 38/200\n",
            "1925/1925 - 5s - loss: 1.3469 - val_loss: 1.3737 - 5s/epoch - 3ms/step\n",
            "Epoch 39/200\n",
            "1925/1925 - 5s - loss: 1.3463 - val_loss: 1.3992 - 5s/epoch - 3ms/step\n",
            "Epoch 40/200\n",
            "1925/1925 - 5s - loss: 1.3460 - val_loss: 1.3892 - 5s/epoch - 3ms/step\n",
            "Epoch 41/200\n",
            "1925/1925 - 5s - loss: 1.3437 - val_loss: 1.3851 - 5s/epoch - 3ms/step\n",
            "Epoch 42/200\n",
            "1925/1925 - 5s - loss: 1.3454 - val_loss: 1.3753 - 5s/epoch - 3ms/step\n",
            "Epoch 43/200\n",
            "1925/1925 - 5s - loss: 1.3418 - val_loss: 1.3938 - 5s/epoch - 3ms/step\n",
            "Epoch 44/200\n",
            "1925/1925 - 5s - loss: 1.3421 - val_loss: 1.3672 - 5s/epoch - 3ms/step\n",
            "Epoch 45/200\n",
            "1925/1925 - 5s - loss: 1.3411 - val_loss: 1.3820 - 5s/epoch - 3ms/step\n",
            "Epoch 46/200\n",
            "1925/1925 - 5s - loss: 1.3360 - val_loss: 1.3660 - 5s/epoch - 3ms/step\n",
            "Epoch 47/200\n",
            "1925/1925 - 5s - loss: 1.3374 - val_loss: 1.3795 - 5s/epoch - 3ms/step\n",
            "Epoch 48/200\n",
            "1925/1925 - 5s - loss: 1.3400 - val_loss: 1.3757 - 5s/epoch - 3ms/step\n",
            "Epoch 49/200\n",
            "1925/1925 - 5s - loss: 1.3357 - val_loss: 1.3675 - 5s/epoch - 3ms/step\n",
            "Epoch 50/200\n",
            "1925/1925 - 5s - loss: 1.3358 - val_loss: 1.3683 - 5s/epoch - 3ms/step\n",
            "Epoch 51/200\n",
            "1925/1925 - 5s - loss: 1.3351 - val_loss: 1.3557 - 5s/epoch - 3ms/step\n",
            "Epoch 52/200\n",
            "1925/1925 - 5s - loss: 1.3338 - val_loss: 1.3720 - 5s/epoch - 3ms/step\n",
            "Epoch 53/200\n",
            "1925/1925 - 5s - loss: 1.3309 - val_loss: 1.3814 - 5s/epoch - 3ms/step\n",
            "Epoch 54/200\n",
            "1925/1925 - 5s - loss: 1.3326 - val_loss: 1.3681 - 5s/epoch - 3ms/step\n",
            "Epoch 55/200\n",
            "1925/1925 - 5s - loss: 1.3304 - val_loss: 1.3679 - 5s/epoch - 3ms/step\n",
            "Epoch 56/200\n",
            "1925/1925 - 5s - loss: 1.3284 - val_loss: 1.3851 - 5s/epoch - 3ms/step\n",
            "Epoch 57/200\n",
            "1925/1925 - 5s - loss: 1.3283 - val_loss: 1.3653 - 5s/epoch - 3ms/step\n",
            "Epoch 58/200\n",
            "1925/1925 - 5s - loss: 1.3279 - val_loss: 1.3634 - 5s/epoch - 3ms/step\n",
            "Epoch 59/200\n",
            "1925/1925 - 5s - loss: 1.3279 - val_loss: 1.3537 - 5s/epoch - 3ms/step\n",
            "Epoch 60/200\n",
            "1925/1925 - 6s - loss: 1.3277 - val_loss: 1.3506 - 6s/epoch - 3ms/step\n",
            "Epoch 61/200\n",
            "1925/1925 - 5s - loss: 1.3254 - val_loss: 1.3552 - 5s/epoch - 3ms/step\n",
            "Epoch 62/200\n",
            "1925/1925 - 6s - loss: 1.3230 - val_loss: 1.3904 - 6s/epoch - 3ms/step\n",
            "Epoch 63/200\n",
            "1925/1925 - 5s - loss: 1.3244 - val_loss: 1.3552 - 5s/epoch - 3ms/step\n",
            "Epoch 64/200\n",
            "1925/1925 - 5s - loss: 1.3225 - val_loss: 1.3602 - 5s/epoch - 3ms/step\n",
            "Epoch 65/200\n",
            "1925/1925 - 5s - loss: 1.3210 - val_loss: 1.3727 - 5s/epoch - 3ms/step\n",
            "Epoch 66/200\n",
            "1925/1925 - 5s - loss: 1.3192 - val_loss: 1.3760 - 5s/epoch - 3ms/step\n",
            "Epoch 67/200\n",
            "1925/1925 - 5s - loss: 1.3203 - val_loss: 1.3729 - 5s/epoch - 3ms/step\n",
            "Epoch 68/200\n",
            "1925/1925 - 5s - loss: 1.3197 - val_loss: 1.3693 - 5s/epoch - 3ms/step\n",
            "Epoch 69/200\n",
            "1925/1925 - 5s - loss: 1.3183 - val_loss: 1.3563 - 5s/epoch - 3ms/step\n",
            "Epoch 70/200\n",
            "1925/1925 - 5s - loss: 1.3172 - val_loss: 1.3554 - 5s/epoch - 2ms/step\n",
            "Epoch 71/200\n",
            "1925/1925 - 5s - loss: 1.3164 - val_loss: 1.3561 - 5s/epoch - 3ms/step\n",
            "Epoch 72/200\n",
            "1925/1925 - 5s - loss: 1.3168 - val_loss: 1.3481 - 5s/epoch - 3ms/step\n",
            "Epoch 73/200\n",
            "1925/1925 - 5s - loss: 1.3156 - val_loss: 1.3630 - 5s/epoch - 3ms/step\n",
            "Epoch 74/200\n",
            "1925/1925 - 5s - loss: 1.3146 - val_loss: 1.3567 - 5s/epoch - 3ms/step\n",
            "Epoch 75/200\n",
            "1925/1925 - 5s - loss: 1.3142 - val_loss: 1.3596 - 5s/epoch - 3ms/step\n",
            "Epoch 76/200\n",
            "1925/1925 - 5s - loss: 1.3125 - val_loss: 1.3452 - 5s/epoch - 3ms/step\n",
            "Epoch 77/200\n",
            "1925/1925 - 5s - loss: 1.3114 - val_loss: 1.3367 - 5s/epoch - 3ms/step\n",
            "Epoch 78/200\n",
            "1925/1925 - 5s - loss: 1.3127 - val_loss: 1.3556 - 5s/epoch - 3ms/step\n",
            "Epoch 79/200\n",
            "1925/1925 - 5s - loss: 1.3109 - val_loss: 1.3318 - 5s/epoch - 3ms/step\n",
            "Epoch 80/200\n",
            "1925/1925 - 5s - loss: 1.3106 - val_loss: 1.3608 - 5s/epoch - 3ms/step\n",
            "Epoch 81/200\n",
            "1925/1925 - 5s - loss: 1.3112 - val_loss: 1.3453 - 5s/epoch - 3ms/step\n",
            "Epoch 82/200\n",
            "1925/1925 - 5s - loss: 1.3081 - val_loss: 1.3527 - 5s/epoch - 3ms/step\n",
            "Epoch 83/200\n",
            "1925/1925 - 5s - loss: 1.3068 - val_loss: 1.3483 - 5s/epoch - 3ms/step\n",
            "Epoch 84/200\n",
            "1925/1925 - 5s - loss: 1.3090 - val_loss: 1.3369 - 5s/epoch - 3ms/step\n",
            "Epoch 85/200\n",
            "1925/1925 - 5s - loss: 1.3076 - val_loss: 1.3577 - 5s/epoch - 3ms/step\n",
            "Epoch 86/200\n",
            "1925/1925 - 5s - loss: 1.3077 - val_loss: 1.3370 - 5s/epoch - 3ms/step\n",
            "Epoch 87/200\n",
            "1925/1925 - 5s - loss: 1.3062 - val_loss: 1.3618 - 5s/epoch - 3ms/step\n",
            "Epoch 88/200\n",
            "1925/1925 - 5s - loss: 1.3069 - val_loss: 1.3480 - 5s/epoch - 3ms/step\n",
            "Epoch 89/200\n",
            "1925/1925 - 5s - loss: 1.3069 - val_loss: 1.3378 - 5s/epoch - 3ms/step\n",
            "Epoch 90/200\n",
            "1925/1925 - 5s - loss: 1.3037 - val_loss: 1.3482 - 5s/epoch - 3ms/step\n",
            "Epoch 91/200\n",
            "1925/1925 - 5s - loss: 1.3043 - val_loss: 1.3652 - 5s/epoch - 3ms/step\n",
            "Epoch 92/200\n",
            "1925/1925 - 5s - loss: 1.3041 - val_loss: 1.3551 - 5s/epoch - 3ms/step\n",
            "Epoch 93/200\n",
            "1925/1925 - 5s - loss: 1.3036 - val_loss: 1.3458 - 5s/epoch - 3ms/step\n",
            "Epoch 94/200\n",
            "1925/1925 - 5s - loss: 1.3016 - val_loss: 1.3389 - 5s/epoch - 3ms/step\n",
            "Epoch 95/200\n",
            "1925/1925 - 5s - loss: 1.3021 - val_loss: 1.3464 - 5s/epoch - 3ms/step\n",
            "Epoch 96/200\n",
            "1925/1925 - 5s - loss: 1.3027 - val_loss: 1.3373 - 5s/epoch - 3ms/step\n",
            "Epoch 97/200\n",
            "1925/1925 - 5s - loss: 1.3014 - val_loss: 1.3270 - 5s/epoch - 3ms/step\n",
            "Epoch 98/200\n",
            "1925/1925 - 5s - loss: 1.2982 - val_loss: 1.3394 - 5s/epoch - 3ms/step\n",
            "Epoch 99/200\n",
            "1925/1925 - 5s - loss: 1.2988 - val_loss: 1.3509 - 5s/epoch - 3ms/step\n",
            "Epoch 100/200\n",
            "1925/1925 - 5s - loss: 1.2977 - val_loss: 1.3438 - 5s/epoch - 3ms/step\n",
            "Epoch 101/200\n",
            "1925/1925 - 5s - loss: 1.2983 - val_loss: 1.3381 - 5s/epoch - 3ms/step\n",
            "Epoch 102/200\n",
            "1925/1925 - 5s - loss: 1.2987 - val_loss: 1.3328 - 5s/epoch - 3ms/step\n",
            "Epoch 103/200\n",
            "1925/1925 - 5s - loss: 1.2980 - val_loss: 1.3511 - 5s/epoch - 3ms/step\n",
            "Epoch 104/200\n",
            "1925/1925 - 5s - loss: 1.2968 - val_loss: 1.3246 - 5s/epoch - 3ms/step\n",
            "Epoch 105/200\n",
            "1925/1925 - 5s - loss: 1.2962 - val_loss: 1.3561 - 5s/epoch - 3ms/step\n",
            "Epoch 106/200\n",
            "1925/1925 - 5s - loss: 1.2963 - val_loss: 1.3314 - 5s/epoch - 3ms/step\n",
            "Epoch 107/200\n",
            "1925/1925 - 5s - loss: 1.2957 - val_loss: 1.3578 - 5s/epoch - 3ms/step\n",
            "Epoch 108/200\n",
            "1925/1925 - 5s - loss: 1.2966 - val_loss: 1.3335 - 5s/epoch - 3ms/step\n",
            "Epoch 109/200\n",
            "1925/1925 - 5s - loss: 1.2946 - val_loss: 1.3285 - 5s/epoch - 3ms/step\n",
            "Epoch 110/200\n",
            "1925/1925 - 5s - loss: 1.2957 - val_loss: 1.3308 - 5s/epoch - 3ms/step\n",
            "Epoch 111/200\n",
            "1925/1925 - 5s - loss: 1.2945 - val_loss: 1.3320 - 5s/epoch - 3ms/step\n",
            "Epoch 112/200\n",
            "1925/1925 - 5s - loss: 1.2925 - val_loss: 1.3312 - 5s/epoch - 3ms/step\n",
            "Epoch 113/200\n",
            "1925/1925 - 5s - loss: 1.2941 - val_loss: 1.3419 - 5s/epoch - 3ms/step\n",
            "Epoch 114/200\n",
            "1925/1925 - 5s - loss: 1.2915 - val_loss: 1.3241 - 5s/epoch - 3ms/step\n",
            "Epoch 115/200\n",
            "1925/1925 - 6s - loss: 1.2932 - val_loss: 1.3392 - 6s/epoch - 3ms/step\n",
            "Epoch 116/200\n",
            "1925/1925 - 5s - loss: 1.2919 - val_loss: 1.3279 - 5s/epoch - 3ms/step\n",
            "Epoch 117/200\n",
            "1925/1925 - 5s - loss: 1.2923 - val_loss: 1.3329 - 5s/epoch - 3ms/step\n",
            "Epoch 118/200\n",
            "1925/1925 - 5s - loss: 1.2912 - val_loss: 1.3270 - 5s/epoch - 3ms/step\n",
            "Epoch 119/200\n",
            "1925/1925 - 5s - loss: 1.2907 - val_loss: 1.3425 - 5s/epoch - 3ms/step\n",
            "Epoch 120/200\n",
            "1925/1925 - 5s - loss: 1.2897 - val_loss: 1.3317 - 5s/epoch - 3ms/step\n",
            "Epoch 121/200\n",
            "1925/1925 - 5s - loss: 1.2905 - val_loss: 1.3380 - 5s/epoch - 3ms/step\n",
            "Epoch 122/200\n",
            "1925/1925 - 5s - loss: 1.2893 - val_loss: 1.3200 - 5s/epoch - 3ms/step\n",
            "Epoch 123/200\n",
            "1925/1925 - 5s - loss: 1.2889 - val_loss: 1.3180 - 5s/epoch - 3ms/step\n",
            "Epoch 124/200\n",
            "1925/1925 - 5s - loss: 1.2889 - val_loss: 1.3250 - 5s/epoch - 3ms/step\n",
            "Epoch 125/200\n",
            "1925/1925 - 5s - loss: 1.2882 - val_loss: 1.3260 - 5s/epoch - 3ms/step\n",
            "Epoch 126/200\n",
            "1925/1925 - 5s - loss: 1.2871 - val_loss: 1.3425 - 5s/epoch - 3ms/step\n",
            "Epoch 127/200\n",
            "1925/1925 - 5s - loss: 1.2860 - val_loss: 1.3280 - 5s/epoch - 3ms/step\n",
            "Epoch 128/200\n",
            "1925/1925 - 5s - loss: 1.2864 - val_loss: 1.3229 - 5s/epoch - 3ms/step\n",
            "Epoch 129/200\n",
            "1925/1925 - 5s - loss: 1.2863 - val_loss: 1.3132 - 5s/epoch - 3ms/step\n",
            "Epoch 130/200\n",
            "1925/1925 - 5s - loss: 1.2848 - val_loss: 1.3182 - 5s/epoch - 3ms/step\n",
            "Epoch 131/200\n",
            "1925/1925 - 5s - loss: 1.2858 - val_loss: 1.3476 - 5s/epoch - 3ms/step\n",
            "Epoch 132/200\n",
            "1925/1925 - 5s - loss: 1.2851 - val_loss: 1.3170 - 5s/epoch - 3ms/step\n",
            "Epoch 133/200\n",
            "1925/1925 - 5s - loss: 1.2840 - val_loss: 1.3288 - 5s/epoch - 2ms/step\n",
            "Epoch 134/200\n",
            "1925/1925 - 5s - loss: 1.2849 - val_loss: 1.3225 - 5s/epoch - 3ms/step\n",
            "Epoch 135/200\n",
            "1925/1925 - 5s - loss: 1.2833 - val_loss: 1.3195 - 5s/epoch - 3ms/step\n",
            "Epoch 136/200\n",
            "1925/1925 - 5s - loss: 1.2829 - val_loss: 1.3332 - 5s/epoch - 3ms/step\n",
            "Epoch 137/200\n",
            "1925/1925 - 5s - loss: 1.2826 - val_loss: 1.3278 - 5s/epoch - 3ms/step\n",
            "Epoch 138/200\n",
            "1925/1925 - 5s - loss: 1.2844 - val_loss: 1.3127 - 5s/epoch - 3ms/step\n",
            "Epoch 139/200\n",
            "1925/1925 - 5s - loss: 1.2836 - val_loss: 1.3334 - 5s/epoch - 3ms/step\n",
            "Epoch 140/200\n",
            "1925/1925 - 5s - loss: 1.2825 - val_loss: 1.3322 - 5s/epoch - 3ms/step\n",
            "Epoch 141/200\n",
            "1925/1925 - 5s - loss: 1.2829 - val_loss: 1.3224 - 5s/epoch - 3ms/step\n",
            "Epoch 142/200\n",
            "1925/1925 - 5s - loss: 1.2817 - val_loss: 1.3137 - 5s/epoch - 3ms/step\n",
            "Epoch 143/200\n",
            "1925/1925 - 5s - loss: 1.2811 - val_loss: 1.3225 - 5s/epoch - 3ms/step\n",
            "Epoch 144/200\n",
            "1925/1925 - 5s - loss: 1.2824 - val_loss: 1.3155 - 5s/epoch - 3ms/step\n",
            "Epoch 145/200\n",
            "1925/1925 - 5s - loss: 1.2812 - val_loss: 1.3165 - 5s/epoch - 3ms/step\n",
            "Epoch 146/200\n",
            "1925/1925 - 5s - loss: 1.2815 - val_loss: 1.3072 - 5s/epoch - 3ms/step\n",
            "Epoch 147/200\n",
            "1925/1925 - 5s - loss: 1.2799 - val_loss: 1.3338 - 5s/epoch - 3ms/step\n",
            "Epoch 148/200\n",
            "1925/1925 - 5s - loss: 1.2796 - val_loss: 1.3092 - 5s/epoch - 3ms/step\n",
            "Epoch 149/200\n",
            "1925/1925 - 5s - loss: 1.2802 - val_loss: 1.3197 - 5s/epoch - 3ms/step\n",
            "Epoch 150/200\n",
            "1925/1925 - 5s - loss: 1.2797 - val_loss: 1.3310 - 5s/epoch - 3ms/step\n",
            "Epoch 151/200\n",
            "1925/1925 - 5s - loss: 1.2796 - val_loss: 1.3182 - 5s/epoch - 3ms/step\n",
            "Epoch 152/200\n",
            "1925/1925 - 5s - loss: 1.2788 - val_loss: 1.3185 - 5s/epoch - 3ms/step\n",
            "Epoch 153/200\n",
            "1925/1925 - 5s - loss: 1.2782 - val_loss: 1.3220 - 5s/epoch - 3ms/step\n",
            "Epoch 154/200\n",
            "1925/1925 - 5s - loss: 1.2774 - val_loss: 1.3084 - 5s/epoch - 3ms/step\n",
            "Epoch 155/200\n",
            "1925/1925 - 5s - loss: 1.2784 - val_loss: 1.3164 - 5s/epoch - 3ms/step\n",
            "Epoch 156/200\n",
            "1925/1925 - 5s - loss: 1.2761 - val_loss: 1.3162 - 5s/epoch - 3ms/step\n",
            "Epoch 157/200\n",
            "1925/1925 - 5s - loss: 1.2769 - val_loss: 1.3243 - 5s/epoch - 3ms/step\n",
            "Epoch 158/200\n",
            "1925/1925 - 5s - loss: 1.2782 - val_loss: 1.3113 - 5s/epoch - 3ms/step\n",
            "Epoch 159/200\n",
            "1925/1925 - 5s - loss: 1.2767 - val_loss: 1.3111 - 5s/epoch - 3ms/step\n",
            "Epoch 160/200\n",
            "1925/1925 - 5s - loss: 1.2769 - val_loss: 1.3158 - 5s/epoch - 3ms/step\n",
            "Epoch 161/200\n",
            "1925/1925 - 5s - loss: 1.2770 - val_loss: 1.3098 - 5s/epoch - 3ms/step\n",
            "Epoch 162/200\n",
            "1925/1925 - 5s - loss: 1.2739 - val_loss: 1.3122 - 5s/epoch - 3ms/step\n",
            "Epoch 163/200\n",
            "1925/1925 - 5s - loss: 1.2755 - val_loss: 1.3267 - 5s/epoch - 3ms/step\n",
            "Epoch 164/200\n",
            "1925/1925 - 5s - loss: 1.2728 - val_loss: 1.3306 - 5s/epoch - 3ms/step\n",
            "Epoch 165/200\n",
            "1925/1925 - 5s - loss: 1.2740 - val_loss: 1.3090 - 5s/epoch - 3ms/step\n",
            "Epoch 166/200\n",
            "1925/1925 - 5s - loss: 1.2743 - val_loss: 1.3001 - 5s/epoch - 3ms/step\n",
            "Epoch 167/200\n",
            "1925/1925 - 5s - loss: 1.2722 - val_loss: 1.3112 - 5s/epoch - 3ms/step\n",
            "Epoch 168/200\n",
            "1925/1925 - 5s - loss: 1.2743 - val_loss: 1.3065 - 5s/epoch - 3ms/step\n",
            "Epoch 169/200\n",
            "1925/1925 - 5s - loss: 1.2728 - val_loss: 1.3328 - 5s/epoch - 3ms/step\n",
            "Epoch 170/200\n",
            "1925/1925 - 5s - loss: 1.2718 - val_loss: 1.3037 - 5s/epoch - 3ms/step\n",
            "Epoch 171/200\n",
            "1925/1925 - 5s - loss: 1.2731 - val_loss: 1.3071 - 5s/epoch - 3ms/step\n",
            "Epoch 172/200\n",
            "1925/1925 - 5s - loss: 1.2728 - val_loss: 1.3046 - 5s/epoch - 3ms/step\n",
            "Epoch 173/200\n",
            "1925/1925 - 5s - loss: 1.2718 - val_loss: 1.3214 - 5s/epoch - 3ms/step\n",
            "Epoch 174/200\n",
            "1925/1925 - 5s - loss: 1.2717 - val_loss: 1.3059 - 5s/epoch - 3ms/step\n",
            "Epoch 175/200\n",
            "1925/1925 - 5s - loss: 1.2717 - val_loss: 1.3348 - 5s/epoch - 3ms/step\n",
            "Epoch 176/200\n",
            "1925/1925 - 5s - loss: 1.2714 - val_loss: 1.3027 - 5s/epoch - 3ms/step\n",
            "Epoch 177/200\n",
            "1925/1925 - 5s - loss: 1.2718 - val_loss: 1.3060 - 5s/epoch - 3ms/step\n",
            "Epoch 178/200\n",
            "1925/1925 - 5s - loss: 1.2708 - val_loss: 1.3420 - 5s/epoch - 3ms/step\n",
            "Epoch 179/200\n",
            "1925/1925 - 5s - loss: 1.2689 - val_loss: 1.3072 - 5s/epoch - 3ms/step\n",
            "Epoch 180/200\n",
            "1925/1925 - 5s - loss: 1.2688 - val_loss: 1.3059 - 5s/epoch - 3ms/step\n",
            "Epoch 181/200\n",
            "1925/1925 - 5s - loss: 1.2688 - val_loss: 1.3128 - 5s/epoch - 3ms/step\n",
            "Epoch 182/200\n",
            "1925/1925 - 5s - loss: 1.2695 - val_loss: 1.3013 - 5s/epoch - 3ms/step\n",
            "Epoch 183/200\n",
            "1925/1925 - 5s - loss: 1.2678 - val_loss: 1.3161 - 5s/epoch - 3ms/step\n",
            "Epoch 184/200\n",
            "1925/1925 - 5s - loss: 1.2684 - val_loss: 1.3155 - 5s/epoch - 3ms/step\n",
            "Epoch 185/200\n",
            "1925/1925 - 5s - loss: 1.2693 - val_loss: 1.3217 - 5s/epoch - 3ms/step\n",
            "Epoch 186/200\n",
            "1925/1925 - 5s - loss: 1.2666 - val_loss: 1.3138 - 5s/epoch - 3ms/step\n",
            "Epoch 187/200\n",
            "1925/1925 - 5s - loss: 1.2685 - val_loss: 1.3020 - 5s/epoch - 3ms/step\n",
            "Epoch 188/200\n",
            "1925/1925 - 5s - loss: 1.2671 - val_loss: 1.3191 - 5s/epoch - 3ms/step\n",
            "Epoch 189/200\n",
            "1925/1925 - 5s - loss: 1.2665 - val_loss: 1.3095 - 5s/epoch - 3ms/step\n",
            "Epoch 190/200\n",
            "1925/1925 - 5s - loss: 1.2665 - val_loss: 1.3054 - 5s/epoch - 3ms/step\n",
            "Epoch 191/200\n",
            "1925/1925 - 5s - loss: 1.2650 - val_loss: 1.3066 - 5s/epoch - 3ms/step\n",
            "Epoch 192/200\n",
            "1925/1925 - 5s - loss: 1.2665 - val_loss: 1.3138 - 5s/epoch - 3ms/step\n",
            "Epoch 193/200\n",
            "1925/1925 - 5s - loss: 1.2660 - val_loss: 1.3129 - 5s/epoch - 3ms/step\n",
            "Epoch 194/200\n",
            "1925/1925 - 5s - loss: 1.2656 - val_loss: 1.3069 - 5s/epoch - 3ms/step\n",
            "Epoch 195/200\n",
            "1925/1925 - 5s - loss: 1.2663 - val_loss: 1.3089 - 5s/epoch - 3ms/step\n",
            "Epoch 196/200\n",
            "1925/1925 - 5s - loss: 1.2653 - val_loss: 1.3163 - 5s/epoch - 3ms/step\n",
            "Epoch 197/200\n",
            "1925/1925 - 5s - loss: 1.2642 - val_loss: 1.2997 - 5s/epoch - 3ms/step\n",
            "Epoch 198/200\n",
            "1925/1925 - 5s - loss: 1.2652 - val_loss: 1.3165 - 5s/epoch - 3ms/step\n",
            "Epoch 199/200\n",
            "1925/1925 - 5s - loss: 1.2632 - val_loss: 1.3016 - 5s/epoch - 3ms/step\n",
            "Epoch 200/200\n",
            "1925/1925 - 5s - loss: 1.2643 - val_loss: 1.3075 - 5s/epoch - 3ms/step\n",
            "CPU times: user 22min 58s, sys: 1min 50s, total: 24min 48s\n",
            "Wall time: 17min 23s\n"
          ]
        }
      ]
    },
    {
      "cell_type": "code",
      "source": [
        "dnn_model.save('models/trained_model')"
      ],
      "metadata": {
        "id": "diexkr56NDIo",
        "colab": {
          "base_uri": "https://localhost:8080/"
        },
        "outputId": "150cfb0f-f94d-45a9-a7e9-ff22d2db9ddc"
      },
      "execution_count": 25,
      "outputs": [
        {
          "output_type": "stream",
          "name": "stdout",
          "text": [
            "INFO:tensorflow:Assets written to: models/trained_model/assets\n"
          ]
        }
      ]
    },
    {
      "cell_type": "code",
      "source": [
        "!zip -r models.zip models"
      ],
      "metadata": {
        "id": "9nfvoWBi13qZ",
        "outputId": "34ce9c67-24d5-4a3d-9f2e-67e3ae10f221",
        "colab": {
          "base_uri": "https://localhost:8080/"
        }
      },
      "execution_count": 26,
      "outputs": [
        {
          "output_type": "stream",
          "name": "stdout",
          "text": [
            "  adding: models/ (stored 0%)\n",
            "  adding: models/ride_model_param_tuning/ (stored 0%)\n",
            "  adding: models/ride_model_param_tuning/trial_0017/ (stored 0%)\n",
            "  adding: models/ride_model_param_tuning/trial_0017/trial.json (deflated 77%)\n",
            "  adding: models/ride_model_param_tuning/trial_0017/checkpoint.data-00000-of-00001 (deflated 18%)\n",
            "  adding: models/ride_model_param_tuning/trial_0017/checkpoint.index (deflated 61%)\n",
            "  adding: models/ride_model_param_tuning/trial_0017/checkpoint (deflated 48%)\n",
            "  adding: models/ride_model_param_tuning/trial_0012/ (stored 0%)\n",
            "  adding: models/ride_model_param_tuning/trial_0012/trial.json (deflated 77%)\n",
            "  adding: models/ride_model_param_tuning/trial_0012/checkpoint.data-00000-of-00001 (deflated 6%)\n",
            "  adding: models/ride_model_param_tuning/trial_0012/checkpoint.index (deflated 59%)\n",
            "  adding: models/ride_model_param_tuning/trial_0012/checkpoint (deflated 48%)\n",
            "  adding: models/ride_model_param_tuning/trial_0025/ (stored 0%)\n",
            "  adding: models/ride_model_param_tuning/trial_0025/trial.json (deflated 77%)\n",
            "  adding: models/ride_model_param_tuning/trial_0025/checkpoint.data-00000-of-00001 (deflated 7%)\n",
            "  adding: models/ride_model_param_tuning/trial_0025/checkpoint.index (deflated 62%)\n",
            "  adding: models/ride_model_param_tuning/trial_0025/checkpoint (deflated 48%)\n",
            "  adding: models/ride_model_param_tuning/trial_0001/ (stored 0%)\n",
            "  adding: models/ride_model_param_tuning/trial_0001/trial.json (deflated 77%)\n",
            "  adding: models/ride_model_param_tuning/trial_0001/checkpoint.data-00000-of-00001 (deflated 7%)\n",
            "  adding: models/ride_model_param_tuning/trial_0001/checkpoint.index (deflated 57%)\n",
            "  adding: models/ride_model_param_tuning/trial_0001/checkpoint (deflated 48%)\n",
            "  adding: models/ride_model_param_tuning/trial_0024/ (stored 0%)\n",
            "  adding: models/ride_model_param_tuning/trial_0024/trial.json (deflated 77%)\n",
            "  adding: models/ride_model_param_tuning/trial_0024/checkpoint.data-00000-of-00001 (deflated 8%)\n",
            "  adding: models/ride_model_param_tuning/trial_0024/checkpoint.index (deflated 64%)\n",
            "  adding: models/ride_model_param_tuning/trial_0024/checkpoint (deflated 48%)\n",
            "  adding: models/ride_model_param_tuning/trial_0014/ (stored 0%)\n",
            "  adding: models/ride_model_param_tuning/trial_0014/trial.json (deflated 77%)\n",
            "  adding: models/ride_model_param_tuning/trial_0014/checkpoint.data-00000-of-00001 (deflated 9%)\n",
            "  adding: models/ride_model_param_tuning/trial_0014/checkpoint.index (deflated 63%)\n",
            "  adding: models/ride_model_param_tuning/trial_0014/checkpoint (deflated 48%)\n",
            "  adding: models/ride_model_param_tuning/trial_0016/ (stored 0%)\n",
            "  adding: models/ride_model_param_tuning/trial_0016/trial.json (deflated 77%)\n",
            "  adding: models/ride_model_param_tuning/trial_0016/checkpoint.data-00000-of-00001 (deflated 6%)\n",
            "  adding: models/ride_model_param_tuning/trial_0016/checkpoint.index (deflated 59%)\n",
            "  adding: models/ride_model_param_tuning/trial_0016/checkpoint (deflated 48%)\n",
            "  adding: models/ride_model_param_tuning/tuner0.json (stored 0%)\n",
            "  adding: models/ride_model_param_tuning/trial_0010/ (stored 0%)\n",
            "  adding: models/ride_model_param_tuning/trial_0010/trial.json (deflated 77%)\n",
            "  adding: models/ride_model_param_tuning/trial_0010/checkpoint.data-00000-of-00001 (deflated 12%)\n",
            "  adding: models/ride_model_param_tuning/trial_0010/checkpoint.index (deflated 59%)\n",
            "  adding: models/ride_model_param_tuning/trial_0010/checkpoint (deflated 48%)\n",
            "  adding: models/ride_model_param_tuning/trial_0021/ (stored 0%)\n",
            "  adding: models/ride_model_param_tuning/trial_0021/trial.json (deflated 77%)\n",
            "  adding: models/ride_model_param_tuning/trial_0021/checkpoint.data-00000-of-00001 (deflated 7%)\n",
            "  adding: models/ride_model_param_tuning/trial_0021/checkpoint.index (deflated 61%)\n",
            "  adding: models/ride_model_param_tuning/trial_0021/checkpoint (deflated 48%)\n",
            "  adding: models/ride_model_param_tuning/trial_0028/ (stored 0%)\n",
            "  adding: models/ride_model_param_tuning/trial_0028/trial.json (deflated 77%)\n",
            "  adding: models/ride_model_param_tuning/trial_0028/checkpoint.data-00000-of-00001 (deflated 9%)\n",
            "  adding: models/ride_model_param_tuning/trial_0028/checkpoint.index (deflated 58%)\n",
            "  adding: models/ride_model_param_tuning/trial_0028/checkpoint (deflated 48%)\n",
            "  adding: models/ride_model_param_tuning/trial_0002/ (stored 0%)\n",
            "  adding: models/ride_model_param_tuning/trial_0002/trial.json (deflated 77%)\n",
            "  adding: models/ride_model_param_tuning/trial_0002/checkpoint.data-00000-of-00001 (deflated 8%)\n",
            "  adding: models/ride_model_param_tuning/trial_0002/checkpoint.index (deflated 62%)\n",
            "  adding: models/ride_model_param_tuning/trial_0002/checkpoint (deflated 48%)\n",
            "  adding: models/ride_model_param_tuning/trial_0015/ (stored 0%)\n",
            "  adding: models/ride_model_param_tuning/trial_0015/trial.json (deflated 77%)\n",
            "  adding: models/ride_model_param_tuning/trial_0015/checkpoint.data-00000-of-00001 (deflated 10%)\n",
            "  adding: models/ride_model_param_tuning/trial_0015/checkpoint.index (deflated 62%)\n",
            "  adding: models/ride_model_param_tuning/trial_0015/checkpoint (deflated 48%)\n",
            "  adding: models/ride_model_param_tuning/trial_0000/ (stored 0%)\n",
            "  adding: models/ride_model_param_tuning/trial_0000/trial.json (deflated 77%)\n",
            "  adding: models/ride_model_param_tuning/trial_0000/checkpoint.data-00000-of-00001 (deflated 6%)\n",
            "  adding: models/ride_model_param_tuning/trial_0000/checkpoint.index (deflated 59%)\n",
            "  adding: models/ride_model_param_tuning/trial_0000/checkpoint (deflated 48%)\n",
            "  adding: models/ride_model_param_tuning/trial_0005/ (stored 0%)\n",
            "  adding: models/ride_model_param_tuning/trial_0005/trial.json (deflated 77%)\n",
            "  adding: models/ride_model_param_tuning/trial_0005/checkpoint.data-00000-of-00001 (deflated 8%)\n",
            "  adding: models/ride_model_param_tuning/trial_0005/checkpoint.index (deflated 51%)\n",
            "  adding: models/ride_model_param_tuning/trial_0005/checkpoint (deflated 48%)\n",
            "  adding: models/ride_model_param_tuning/trial_0009/ (stored 0%)\n",
            "  adding: models/ride_model_param_tuning/trial_0009/trial.json (deflated 77%)\n",
            "  adding: models/ride_model_param_tuning/trial_0009/checkpoint.data-00000-of-00001 (deflated 9%)\n",
            "  adding: models/ride_model_param_tuning/trial_0009/checkpoint.index (deflated 64%)\n",
            "  adding: models/ride_model_param_tuning/trial_0009/checkpoint (deflated 48%)\n",
            "  adding: models/ride_model_param_tuning/trial_0006/ (stored 0%)\n",
            "  adding: models/ride_model_param_tuning/trial_0006/trial.json (deflated 77%)\n",
            "  adding: models/ride_model_param_tuning/trial_0006/checkpoint.data-00000-of-00001 (deflated 8%)\n",
            "  adding: models/ride_model_param_tuning/trial_0006/checkpoint.index (deflated 61%)\n",
            "  adding: models/ride_model_param_tuning/trial_0006/checkpoint (deflated 48%)\n",
            "  adding: models/ride_model_param_tuning/trial_0022/ (stored 0%)\n",
            "  adding: models/ride_model_param_tuning/trial_0022/trial.json (deflated 77%)\n",
            "  adding: models/ride_model_param_tuning/trial_0022/checkpoint.data-00000-of-00001 (deflated 7%)\n",
            "  adding: models/ride_model_param_tuning/trial_0022/checkpoint.index (deflated 63%)\n",
            "  adding: models/ride_model_param_tuning/trial_0022/checkpoint (deflated 48%)\n",
            "  adding: models/ride_model_param_tuning/trial_0026/ (stored 0%)\n",
            "  adding: models/ride_model_param_tuning/trial_0026/trial.json (deflated 77%)\n",
            "  adding: models/ride_model_param_tuning/trial_0026/checkpoint.data-00000-of-00001 (deflated 6%)\n",
            "  adding: models/ride_model_param_tuning/trial_0026/checkpoint.index (deflated 60%)\n",
            "  adding: models/ride_model_param_tuning/trial_0026/checkpoint (deflated 48%)\n",
            "  adding: models/ride_model_param_tuning/trial_0027/ (stored 0%)\n",
            "  adding: models/ride_model_param_tuning/trial_0027/trial.json (deflated 77%)\n",
            "  adding: models/ride_model_param_tuning/trial_0027/checkpoint.data-00000-of-00001 (deflated 14%)\n",
            "  adding: models/ride_model_param_tuning/trial_0027/checkpoint.index (deflated 62%)\n",
            "  adding: models/ride_model_param_tuning/trial_0027/checkpoint (deflated 48%)\n",
            "  adding: models/ride_model_param_tuning/trial_0019/ (stored 0%)\n",
            "  adding: models/ride_model_param_tuning/trial_0019/trial.json (deflated 77%)\n",
            "  adding: models/ride_model_param_tuning/trial_0019/checkpoint.data-00000-of-00001 (deflated 6%)\n",
            "  adding: models/ride_model_param_tuning/trial_0019/checkpoint.index (deflated 59%)\n",
            "  adding: models/ride_model_param_tuning/trial_0019/checkpoint (deflated 48%)\n",
            "  adding: models/ride_model_param_tuning/trial_0029/ (stored 0%)\n",
            "  adding: models/ride_model_param_tuning/trial_0029/trial.json (deflated 77%)\n",
            "  adding: models/ride_model_param_tuning/trial_0029/checkpoint.data-00000-of-00001 (deflated 7%)\n",
            "  adding: models/ride_model_param_tuning/trial_0029/checkpoint.index (deflated 61%)\n",
            "  adding: models/ride_model_param_tuning/trial_0029/checkpoint (deflated 48%)\n",
            "  adding: models/ride_model_param_tuning/trial_0018/ (stored 0%)\n",
            "  adding: models/ride_model_param_tuning/trial_0018/trial.json (deflated 77%)\n",
            "  adding: models/ride_model_param_tuning/trial_0018/checkpoint.data-00000-of-00001 (deflated 7%)\n",
            "  adding: models/ride_model_param_tuning/trial_0018/checkpoint.index (deflated 64%)\n",
            "  adding: models/ride_model_param_tuning/trial_0018/checkpoint (deflated 48%)\n",
            "  adding: models/ride_model_param_tuning/trial_0003/ (stored 0%)\n",
            "  adding: models/ride_model_param_tuning/trial_0003/trial.json (deflated 77%)\n",
            "  adding: models/ride_model_param_tuning/trial_0003/checkpoint.data-00000-of-00001 (deflated 8%)\n",
            "  adding: models/ride_model_param_tuning/trial_0003/checkpoint.index (deflated 57%)\n",
            "  adding: models/ride_model_param_tuning/trial_0003/checkpoint (deflated 48%)\n",
            "  adding: models/ride_model_param_tuning/trial_0008/ (stored 0%)\n",
            "  adding: models/ride_model_param_tuning/trial_0008/trial.json (deflated 77%)\n",
            "  adding: models/ride_model_param_tuning/trial_0008/checkpoint.data-00000-of-00001 (deflated 7%)\n",
            "  adding: models/ride_model_param_tuning/trial_0008/checkpoint.index (deflated 63%)\n",
            "  adding: models/ride_model_param_tuning/trial_0008/checkpoint (deflated 48%)\n",
            "  adding: models/ride_model_param_tuning/trial_0013/ (stored 0%)\n",
            "  adding: models/ride_model_param_tuning/trial_0013/trial.json (deflated 77%)\n",
            "  adding: models/ride_model_param_tuning/trial_0013/checkpoint.data-00000-of-00001 (deflated 14%)\n",
            "  adding: models/ride_model_param_tuning/trial_0013/checkpoint.index (deflated 60%)\n",
            "  adding: models/ride_model_param_tuning/trial_0013/checkpoint (deflated 48%)\n",
            "  adding: models/ride_model_param_tuning/oracle.json (deflated 66%)\n",
            "  adding: models/ride_model_param_tuning/trial_0020/ (stored 0%)\n",
            "  adding: models/ride_model_param_tuning/trial_0020/trial.json (deflated 77%)\n",
            "  adding: models/ride_model_param_tuning/trial_0020/checkpoint.data-00000-of-00001 (deflated 7%)\n",
            "  adding: models/ride_model_param_tuning/trial_0020/checkpoint.index (deflated 62%)\n",
            "  adding: models/ride_model_param_tuning/trial_0020/checkpoint (deflated 48%)\n",
            "  adding: models/ride_model_param_tuning/trial_0011/ (stored 0%)\n",
            "  adding: models/ride_model_param_tuning/trial_0011/trial.json (deflated 77%)\n",
            "  adding: models/ride_model_param_tuning/trial_0011/checkpoint.data-00000-of-00001 (deflated 15%)\n",
            "  adding: models/ride_model_param_tuning/trial_0011/checkpoint.index (deflated 60%)\n",
            "  adding: models/ride_model_param_tuning/trial_0011/checkpoint (deflated 48%)\n",
            "  adding: models/ride_model_param_tuning/trial_0007/ (stored 0%)\n",
            "  adding: models/ride_model_param_tuning/trial_0007/trial.json (deflated 77%)\n",
            "  adding: models/ride_model_param_tuning/trial_0007/checkpoint.data-00000-of-00001 (deflated 8%)\n",
            "  adding: models/ride_model_param_tuning/trial_0007/checkpoint.index (deflated 51%)\n",
            "  adding: models/ride_model_param_tuning/trial_0007/checkpoint (deflated 48%)\n",
            "  adding: models/ride_model_param_tuning/trial_0004/ (stored 0%)\n",
            "  adding: models/ride_model_param_tuning/trial_0004/trial.json (deflated 77%)\n",
            "  adding: models/ride_model_param_tuning/trial_0004/checkpoint.data-00000-of-00001 (deflated 8%)\n",
            "  adding: models/ride_model_param_tuning/trial_0004/checkpoint.index (deflated 52%)\n",
            "  adding: models/ride_model_param_tuning/trial_0004/checkpoint (deflated 48%)\n",
            "  adding: models/ride_model_param_tuning/trial_0023/ (stored 0%)\n",
            "  adding: models/ride_model_param_tuning/trial_0023/trial.json (deflated 77%)\n",
            "  adding: models/ride_model_param_tuning/trial_0023/checkpoint.data-00000-of-00001 (deflated 9%)\n",
            "  adding: models/ride_model_param_tuning/trial_0023/checkpoint.index (deflated 59%)\n",
            "  adding: models/ride_model_param_tuning/trial_0023/checkpoint (deflated 48%)\n",
            "  adding: models/trained_model/ (stored 0%)\n",
            "  adding: models/trained_model/variables/ (stored 0%)\n",
            "  adding: models/trained_model/variables/variables.index (deflated 59%)\n",
            "  adding: models/trained_model/variables/variables.data-00000-of-00001 (deflated 7%)\n",
            "  adding: models/trained_model/saved_model.pb (deflated 87%)\n",
            "  adding: models/trained_model/keras_metadata.pb (deflated 89%)\n",
            "  adding: models/trained_model/assets/ (stored 0%)\n"
          ]
        }
      ]
    },
    {
      "cell_type": "code",
      "source": [
        ""
      ],
      "metadata": {
        "id": "Tff9nGi6160n"
      },
      "execution_count": null,
      "outputs": []
    }
  ],
  "metadata": {
    "colab": {
      "collapsed_sections": [],
      "name": "Hyper Parameter Tuning.ipynb",
      "provenance": []
    },
    "kernelspec": {
      "display_name": "Python 3",
      "name": "python3"
    },
    "language_info": {
      "name": "python"
    }
  },
  "nbformat": 4,
  "nbformat_minor": 0
}