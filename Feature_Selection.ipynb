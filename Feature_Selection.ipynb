{
  "nbformat": 4,
  "nbformat_minor": 0,
  "metadata": {
    "colab": {
      "name": "Feature Selection.ipynb",
      "provenance": []
    },
    "kernelspec": {
      "name": "python3",
      "display_name": "Python 3"
    },
    "language_info": {
      "name": "python"
    }
  },
  "cells": [
    {
      "cell_type": "code",
      "execution_count": 1,
      "metadata": {
        "id": "b-awIOyu12Ti"
      },
      "outputs": [],
      "source": [
        "import pandas as pd\n",
        "import numpy as np\n",
        "\n",
        "# example of correlation feature selection for numerical data\n",
        "from sklearn.datasets import make_regression\n",
        "from sklearn.model_selection import train_test_split\n",
        "from sklearn.feature_selection import SelectKBest\n",
        "from sklearn.feature_selection import f_regression\n",
        "from matplotlib import pyplot"
      ]
    },
    {
      "cell_type": "markdown",
      "source": [
        "## Feature Selection\n",
        "Reading the data and storing it as a dataframe for further analysis."
      ],
      "metadata": {
        "id": "Kn4EqlwY2b14"
      }
    },
    {
      "cell_type": "code",
      "source": [
        "df =  pd.read_csv('data/cleanData.csv') "
      ],
      "metadata": {
        "id": "QTR75phI2a6f"
      },
      "execution_count": 2,
      "outputs": []
    },
    {
      "cell_type": "code",
      "source": [
        "df.head()"
      ],
      "metadata": {
        "colab": {
          "base_uri": "https://localhost:8080/",
          "height": 270
        },
        "id": "ZLg9UQVU2rrz",
        "outputId": "bba00fc9-a1f6-42c2-d873-275e5ff28651"
      },
      "execution_count": 3,
      "outputs": [
        {
          "output_type": "execute_result",
          "data": {
            "text/plain": [
              "   distance  destination_dict  source_dict  hour  day_of_week  day  month  \\\n",
              "0      0.44                 7            5    18            0   26     11   \n",
              "1      1.08                 8            0     2            1   27     11   \n",
              "2      1.11                11            6    15            6   16     12   \n",
              "3      0.72                 5            7     8            6   16     12   \n",
              "4      3.24                 8            7    19            0   26     11   \n",
              "\n",
              "   year  time_of_day   temp  clouds  pressure    rain   wind  name_dict  \\\n",
              "0  2018            6  43.82    0.99   1002.59  0.0997  11.57          2   \n",
              "1  2018            0  44.95    0.99    990.87  0.0087   6.14          4   \n",
              "2  2018            5  42.36    1.00   1012.15  0.2088  11.46         12   \n",
              "3  2018            2  42.35    0.91   1018.92  0.0100   9.44          4   \n",
              "4  2018            6  44.25    1.00   1000.81  0.1617  13.70          7   \n",
              "\n",
              "   cab_type_dict  price  \n",
              "0              0   11.0  \n",
              "1              0   27.5  \n",
              "2              1    7.5  \n",
              "3              0   26.0  \n",
              "4              0    3.5  "
            ],
            "text/html": [
              "\n",
              "  <div id=\"df-1b95d84d-0198-4b37-955c-9e78cbcf25f1\">\n",
              "    <div class=\"colab-df-container\">\n",
              "      <div>\n",
              "<style scoped>\n",
              "    .dataframe tbody tr th:only-of-type {\n",
              "        vertical-align: middle;\n",
              "    }\n",
              "\n",
              "    .dataframe tbody tr th {\n",
              "        vertical-align: top;\n",
              "    }\n",
              "\n",
              "    .dataframe thead th {\n",
              "        text-align: right;\n",
              "    }\n",
              "</style>\n",
              "<table border=\"1\" class=\"dataframe\">\n",
              "  <thead>\n",
              "    <tr style=\"text-align: right;\">\n",
              "      <th></th>\n",
              "      <th>distance</th>\n",
              "      <th>destination_dict</th>\n",
              "      <th>source_dict</th>\n",
              "      <th>hour</th>\n",
              "      <th>day_of_week</th>\n",
              "      <th>day</th>\n",
              "      <th>month</th>\n",
              "      <th>year</th>\n",
              "      <th>time_of_day</th>\n",
              "      <th>temp</th>\n",
              "      <th>clouds</th>\n",
              "      <th>pressure</th>\n",
              "      <th>rain</th>\n",
              "      <th>wind</th>\n",
              "      <th>name_dict</th>\n",
              "      <th>cab_type_dict</th>\n",
              "      <th>price</th>\n",
              "    </tr>\n",
              "  </thead>\n",
              "  <tbody>\n",
              "    <tr>\n",
              "      <th>0</th>\n",
              "      <td>0.44</td>\n",
              "      <td>7</td>\n",
              "      <td>5</td>\n",
              "      <td>18</td>\n",
              "      <td>0</td>\n",
              "      <td>26</td>\n",
              "      <td>11</td>\n",
              "      <td>2018</td>\n",
              "      <td>6</td>\n",
              "      <td>43.82</td>\n",
              "      <td>0.99</td>\n",
              "      <td>1002.59</td>\n",
              "      <td>0.0997</td>\n",
              "      <td>11.57</td>\n",
              "      <td>2</td>\n",
              "      <td>0</td>\n",
              "      <td>11.0</td>\n",
              "    </tr>\n",
              "    <tr>\n",
              "      <th>1</th>\n",
              "      <td>1.08</td>\n",
              "      <td>8</td>\n",
              "      <td>0</td>\n",
              "      <td>2</td>\n",
              "      <td>1</td>\n",
              "      <td>27</td>\n",
              "      <td>11</td>\n",
              "      <td>2018</td>\n",
              "      <td>0</td>\n",
              "      <td>44.95</td>\n",
              "      <td>0.99</td>\n",
              "      <td>990.87</td>\n",
              "      <td>0.0087</td>\n",
              "      <td>6.14</td>\n",
              "      <td>4</td>\n",
              "      <td>0</td>\n",
              "      <td>27.5</td>\n",
              "    </tr>\n",
              "    <tr>\n",
              "      <th>2</th>\n",
              "      <td>1.11</td>\n",
              "      <td>11</td>\n",
              "      <td>6</td>\n",
              "      <td>15</td>\n",
              "      <td>6</td>\n",
              "      <td>16</td>\n",
              "      <td>12</td>\n",
              "      <td>2018</td>\n",
              "      <td>5</td>\n",
              "      <td>42.36</td>\n",
              "      <td>1.00</td>\n",
              "      <td>1012.15</td>\n",
              "      <td>0.2088</td>\n",
              "      <td>11.46</td>\n",
              "      <td>12</td>\n",
              "      <td>1</td>\n",
              "      <td>7.5</td>\n",
              "    </tr>\n",
              "    <tr>\n",
              "      <th>3</th>\n",
              "      <td>0.72</td>\n",
              "      <td>5</td>\n",
              "      <td>7</td>\n",
              "      <td>8</td>\n",
              "      <td>6</td>\n",
              "      <td>16</td>\n",
              "      <td>12</td>\n",
              "      <td>2018</td>\n",
              "      <td>2</td>\n",
              "      <td>42.35</td>\n",
              "      <td>0.91</td>\n",
              "      <td>1018.92</td>\n",
              "      <td>0.0100</td>\n",
              "      <td>9.44</td>\n",
              "      <td>4</td>\n",
              "      <td>0</td>\n",
              "      <td>26.0</td>\n",
              "    </tr>\n",
              "    <tr>\n",
              "      <th>4</th>\n",
              "      <td>3.24</td>\n",
              "      <td>8</td>\n",
              "      <td>7</td>\n",
              "      <td>19</td>\n",
              "      <td>0</td>\n",
              "      <td>26</td>\n",
              "      <td>11</td>\n",
              "      <td>2018</td>\n",
              "      <td>6</td>\n",
              "      <td>44.25</td>\n",
              "      <td>1.00</td>\n",
              "      <td>1000.81</td>\n",
              "      <td>0.1617</td>\n",
              "      <td>13.70</td>\n",
              "      <td>7</td>\n",
              "      <td>0</td>\n",
              "      <td>3.5</td>\n",
              "    </tr>\n",
              "  </tbody>\n",
              "</table>\n",
              "</div>\n",
              "      <button class=\"colab-df-convert\" onclick=\"convertToInteractive('df-1b95d84d-0198-4b37-955c-9e78cbcf25f1')\"\n",
              "              title=\"Convert this dataframe to an interactive table.\"\n",
              "              style=\"display:none;\">\n",
              "        \n",
              "  <svg xmlns=\"http://www.w3.org/2000/svg\" height=\"24px\"viewBox=\"0 0 24 24\"\n",
              "       width=\"24px\">\n",
              "    <path d=\"M0 0h24v24H0V0z\" fill=\"none\"/>\n",
              "    <path d=\"M18.56 5.44l.94 2.06.94-2.06 2.06-.94-2.06-.94-.94-2.06-.94 2.06-2.06.94zm-11 1L8.5 8.5l.94-2.06 2.06-.94-2.06-.94L8.5 2.5l-.94 2.06-2.06.94zm10 10l.94 2.06.94-2.06 2.06-.94-2.06-.94-.94-2.06-.94 2.06-2.06.94z\"/><path d=\"M17.41 7.96l-1.37-1.37c-.4-.4-.92-.59-1.43-.59-.52 0-1.04.2-1.43.59L10.3 9.45l-7.72 7.72c-.78.78-.78 2.05 0 2.83L4 21.41c.39.39.9.59 1.41.59.51 0 1.02-.2 1.41-.59l7.78-7.78 2.81-2.81c.8-.78.8-2.07 0-2.86zM5.41 20L4 18.59l7.72-7.72 1.47 1.35L5.41 20z\"/>\n",
              "  </svg>\n",
              "      </button>\n",
              "      \n",
              "  <style>\n",
              "    .colab-df-container {\n",
              "      display:flex;\n",
              "      flex-wrap:wrap;\n",
              "      gap: 12px;\n",
              "    }\n",
              "\n",
              "    .colab-df-convert {\n",
              "      background-color: #E8F0FE;\n",
              "      border: none;\n",
              "      border-radius: 50%;\n",
              "      cursor: pointer;\n",
              "      display: none;\n",
              "      fill: #1967D2;\n",
              "      height: 32px;\n",
              "      padding: 0 0 0 0;\n",
              "      width: 32px;\n",
              "    }\n",
              "\n",
              "    .colab-df-convert:hover {\n",
              "      background-color: #E2EBFA;\n",
              "      box-shadow: 0px 1px 2px rgba(60, 64, 67, 0.3), 0px 1px 3px 1px rgba(60, 64, 67, 0.15);\n",
              "      fill: #174EA6;\n",
              "    }\n",
              "\n",
              "    [theme=dark] .colab-df-convert {\n",
              "      background-color: #3B4455;\n",
              "      fill: #D2E3FC;\n",
              "    }\n",
              "\n",
              "    [theme=dark] .colab-df-convert:hover {\n",
              "      background-color: #434B5C;\n",
              "      box-shadow: 0px 1px 3px 1px rgba(0, 0, 0, 0.15);\n",
              "      filter: drop-shadow(0px 1px 2px rgba(0, 0, 0, 0.3));\n",
              "      fill: #FFFFFF;\n",
              "    }\n",
              "  </style>\n",
              "\n",
              "      <script>\n",
              "        const buttonEl =\n",
              "          document.querySelector('#df-1b95d84d-0198-4b37-955c-9e78cbcf25f1 button.colab-df-convert');\n",
              "        buttonEl.style.display =\n",
              "          google.colab.kernel.accessAllowed ? 'block' : 'none';\n",
              "\n",
              "        async function convertToInteractive(key) {\n",
              "          const element = document.querySelector('#df-1b95d84d-0198-4b37-955c-9e78cbcf25f1');\n",
              "          const dataTable =\n",
              "            await google.colab.kernel.invokeFunction('convertToInteractive',\n",
              "                                                     [key], {});\n",
              "          if (!dataTable) return;\n",
              "\n",
              "          const docLinkHtml = 'Like what you see? Visit the ' +\n",
              "            '<a target=\"_blank\" href=https://colab.research.google.com/notebooks/data_table.ipynb>data table notebook</a>'\n",
              "            + ' to learn more about interactive tables.';\n",
              "          element.innerHTML = '';\n",
              "          dataTable['output_type'] = 'display_data';\n",
              "          await google.colab.output.renderOutput(dataTable, element);\n",
              "          const docLink = document.createElement('div');\n",
              "          docLink.innerHTML = docLinkHtml;\n",
              "          element.appendChild(docLink);\n",
              "        }\n",
              "      </script>\n",
              "    </div>\n",
              "  </div>\n",
              "  "
            ]
          },
          "metadata": {},
          "execution_count": 3
        }
      ]
    },
    {
      "cell_type": "markdown",
      "source": [
        "Split the dataframe into feature and labels. Here, we intend to predict the ride price. Hence, the label is price and the rest columns are our features."
      ],
      "metadata": {
        "id": "cILCm0aP2uIm"
      }
    },
    {
      "cell_type": "code",
      "source": [
        "X = df.drop(columns=['price'])\n",
        "y = df['price']"
      ],
      "metadata": {
        "id": "cyH9kIej2s0S"
      },
      "execution_count": 4,
      "outputs": []
    },
    {
      "cell_type": "markdown",
      "source": [
        "Preparing a function to select the k best features."
      ],
      "metadata": {
        "id": "pHv4o6le3Exi"
      }
    },
    {
      "cell_type": "code",
      "source": [
        "# feature selection\n",
        "def select_features(X_train, y_train, X_test):\n",
        "\t# configure to select all features\n",
        "\tfs = SelectKBest(score_func=f_regression, k='all')\n",
        "\t# learn relationship from training data\n",
        "\tfs.fit(X_train, y_train)\n",
        "\t# transform train input data\n",
        "\tX_train_fs = fs.transform(X_train)\n",
        "\t# transform test input data\n",
        "\tX_test_fs = fs.transform(X_test)\n",
        "\treturn X_train_fs, X_test_fs, fs"
      ],
      "metadata": {
        "id": "lKGKY7UF3BN_"
      },
      "execution_count": 5,
      "outputs": []
    },
    {
      "cell_type": "code",
      "source": [
        "X_train, X_test, y_train, y_test = train_test_split(X, y, test_size=0.33, random_state=1)\n",
        "# feature selection\n",
        "X_train_fs, X_test_fs, fs = select_features(X_train, y_train, X_test)\n",
        "# what are scores for the features\n",
        "for i in range(len(fs.scores_)):\n",
        "\tprint('Feature %d: %f' % (i, fs.scores_[i]))\n",
        "# plot the scores\n",
        "pyplot.bar([i for i in range(len(fs.scores_))], fs.scores_)\n",
        "pyplot.show()"
      ],
      "metadata": {
        "colab": {
          "base_uri": "https://localhost:8080/",
          "height": 632
        },
        "id": "GAtxTuIw3D0P",
        "outputId": "69c28917-aa7f-4ac5-ac8f-2dbc90855f55"
      },
      "execution_count": 6,
      "outputs": [
        {
          "output_type": "stream",
          "name": "stderr",
          "text": [
            "/usr/local/lib/python3.7/dist-packages/sklearn/feature_selection/_univariate_selection.py:289: RuntimeWarning: divide by zero encountered in true_divide\n",
            "  correlation_coefficient /= X_norms\n",
            "/usr/local/lib/python3.7/dist-packages/sklearn/feature_selection/_univariate_selection.py:358: RuntimeWarning: invalid value encountered in true_divide\n",
            "  f_statistic = corr_coef_squared / (1 - corr_coef_squared) * deg_of_freedom\n"
          ]
        },
        {
          "output_type": "stream",
          "name": "stdout",
          "text": [
            "Feature 0: 8607.292071\n",
            "Feature 1: 123.102634\n",
            "Feature 2: 54.202090\n",
            "Feature 3: 0.071463\n",
            "Feature 4: 1.062200\n",
            "Feature 5: 3.246834\n",
            "Feature 6: 1.756395\n",
            "Feature 7: nan\n",
            "Feature 8: 0.048251\n",
            "Feature 9: 1.205522\n",
            "Feature 10: 0.328756\n",
            "Feature 11: 9.146892\n",
            "Feature 12: 0.824306\n",
            "Feature 13: 0.236561\n",
            "Feature 14: 32539.770512\n",
            "Feature 15: 430.944569\n"
          ]
        },
        {
          "output_type": "display_data",
          "data": {
            "text/plain": [
              "<Figure size 432x288 with 1 Axes>"
            ],
            "image/png": "[encoded data removed]"
          },
          "metadata": {
            "needs_background": "light"
          }
        }
      ]
    },
    {
      "cell_type": "code",
      "source": [
        "X.columns"
      ],
      "metadata": {
        "colab": {
          "base_uri": "https://localhost:8080/"
        },
        "id": "sngM2rGp3Sty",
        "outputId": "7781720f-11ce-42a3-b17e-5c6daf1aa17f"
      },
      "execution_count": 7,
      "outputs": [
        {
          "output_type": "execute_result",
          "data": {
            "text/plain": [
              "Index(['distance', 'destination_dict', 'source_dict', 'hour', 'day_of_week',\n",
              "       'day', 'month', 'year', 'time_of_day', 'temp', 'clouds', 'pressure',\n",
              "       'rain', 'wind', 'name_dict', 'cab_type_dict'],\n",
              "      dtype='object')"
            ]
          },
          "metadata": {},
          "execution_count": 7
        }
      ]
    },
    {
      "cell_type": "markdown",
      "source": [
        "From the result, it is evident that the features at indexes 0,1,2,14,15 are important. We can use this and create a simple dataset to train out ML model."
      ],
      "metadata": {
        "id": "LB29ZIXV3dJW"
      }
    },
    {
      "cell_type": "code",
      "source": [
        "allFeatures  = ['distance', 'destination_dict', 'source_dict', 'hour', 'day_of_week',\n",
        "       'day', 'month', 'year', 'time_of_day', 'temp', 'clouds', 'pressure',\n",
        "       'rain', 'wind', 'name_dict', 'cab_type_dict']"
      ],
      "metadata": {
        "id": "4SbMrm663vYn"
      },
      "execution_count": 8,
      "outputs": []
    },
    {
      "cell_type": "code",
      "source": [
        "selectedFeatures = [allFeatures[0], allFeatures[1], allFeatures[2], allFeatures[14], allFeatures[15],'price']"
      ],
      "metadata": {
        "id": "dfsjYU2U3be_"
      },
      "execution_count": 9,
      "outputs": []
    },
    {
      "cell_type": "code",
      "source": [
        "new_df = df[selectedFeatures]"
      ],
      "metadata": {
        "id": "sE2OG9LK3XTK"
      },
      "execution_count": 10,
      "outputs": []
    },
    {
      "cell_type": "code",
      "source": [
        "new_df.dropna(inplace=True)"
      ],
      "metadata": {
        "colab": {
          "base_uri": "https://localhost:8080/"
        },
        "id": "Ykq5li_P3xaD",
        "outputId": "754a492c-8e82-4895-af44-a3f13a78dc0f"
      },
      "execution_count": 11,
      "outputs": [
        {
          "output_type": "stream",
          "name": "stderr",
          "text": [
            "/usr/local/lib/python3.7/dist-packages/pandas/util/_decorators.py:311: SettingWithCopyWarning: \n",
            "A value is trying to be set on a copy of a slice from a DataFrame\n",
            "\n",
            "See the caveats in the documentation: https://pandas.pydata.org/pandas-docs/stable/user_guide/indexing.html#returning-a-view-versus-a-copy\n",
            "  return func(*args, **kwargs)\n"
          ]
        }
      ]
    },
    {
      "cell_type": "code",
      "source": [
        "new_df.to_csv('data/simpleData.csv',index=False)"
      ],
      "metadata": {
        "id": "tgfs_Tyt34-L"
      },
      "execution_count": 12,
      "outputs": []
    },
    {
      "cell_type": "code",
      "source": [
        ""
      ],
      "metadata": {
        "id": "ZzNf028L37en"
      },
      "execution_count": 12,
      "outputs": []
    }
  ]
}